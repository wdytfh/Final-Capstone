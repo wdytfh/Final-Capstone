{
 "cells": [
  {
   "cell_type": "code",
   "execution_count": 1,
   "id": "ebc6d974",
   "metadata": {},
   "outputs": [],
   "source": [
    "import pandas as pd\n",
    "from pandas.api.types import is_numeric_dtype\n",
    "from sklearn.model_selection import train_test_split\n",
    "import catboost as cb\n",
    "from sklearn.metrics import classification_report\n",
    "import matplotlib.pyplot as plt\n",
    "import seaborn as sns \n",
    "import numpy as np"
   ]
  },
  {
   "cell_type": "code",
   "execution_count": 2,
   "id": "d723c360",
   "metadata": {},
   "outputs": [],
   "source": [
    "data_final=pd.read_csv('cleaned_data.csv')\n",
    "data_final=data_final.drop('Unnamed: 0',axis=1)\n",
    "data_final=data_final.sample(frac=.2)"
   ]
  },
  {
   "cell_type": "code",
   "execution_count": 3,
   "id": "113542ff",
   "metadata": {},
   "outputs": [],
   "source": [
    "X=data_final.drop('Accepted',axis=1)\n",
    "y=data_final['Accepted']"
   ]
  },
  {
   "cell_type": "code",
   "execution_count": 4,
   "id": "928431bd",
   "metadata": {},
   "outputs": [],
   "source": [
    "def get_categorical_indicies(X):\n",
    "    cats = []\n",
    "    for col in X.columns:\n",
    "        if is_numeric_dtype(X[col]):\n",
    "            pass\n",
    "        else:\n",
    "            cats.append(col)\n",
    "    cat_indicies = []\n",
    "    for col in cats:\n",
    "        cat_indicies.append(X.columns.get_loc(col))\n",
    "    return cat_indicies\n",
    "\n",
    "categorical_indicies = get_categorical_indicies(X)"
   ]
  },
  {
   "cell_type": "code",
   "execution_count": 5,
   "id": "7d05f839",
   "metadata": {},
   "outputs": [],
   "source": [
    "def convert_cats(X):\n",
    "    cats = []\n",
    "    for col in X.columns:\n",
    "        if is_numeric_dtype(X[col]):\n",
    "            pass\n",
    "        else:\n",
    "            cats.append(col)\n",
    "    cat_indicies = []\n",
    "    for col in cats:\n",
    "        X[col] = X[col].astype('category')\n",
    "\n",
    "convert_cats(X)"
   ]
  },
  {
   "cell_type": "code",
   "execution_count": 6,
   "id": "2a706864",
   "metadata": {},
   "outputs": [],
   "source": [
    "X_train, X_test, y_train, y_test = train_test_split(X, y, test_size=0.2, random_state=101, stratify=y)"
   ]
  },
  {
   "cell_type": "code",
   "execution_count": 7,
   "id": "114b2ef5",
   "metadata": {},
   "outputs": [],
   "source": [
    "train_df = pd.concat([X,y],axis=1)\n",
    "accepted = train_df[train_df['Accepted']==1]\n",
    "rejected = train_df[train_df['Accepted']==0]\n",
    "rejected = rejected.sample(n=len(accepted), random_state=101)\n",
    "train_df = pd.concat([accepted,rejected],axis=0)\n",
    "X_train = train_df.drop('Accepted',axis=1)\n",
    "y_train = train_df['Accepted']"
   ]
  },
  {
   "cell_type": "code",
   "execution_count": 8,
   "id": "2149f274",
   "metadata": {},
   "outputs": [],
   "source": [
    "train_dataset = cb.Pool(X_train,y_train, cat_features=categorical_indicies)\n",
    "test_dataset = cb.Pool(X_test,y_test, cat_features=categorical_indicies)"
   ]
  },
  {
   "cell_type": "code",
   "execution_count": 9,
   "id": "08e707c4",
   "metadata": {},
   "outputs": [],
   "source": [
    "model = cb.CatBoostClassifier(loss_function='Logloss', eval_metric='Accuracy')"
   ]
  },
  {
   "cell_type": "code",
   "execution_count": 10,
   "id": "8b163a4f",
   "metadata": {},
   "outputs": [],
   "source": [
    "grid = {'learning_rate': [0.03],\n",
    "'depth': [4],\n",
    "'l2_leaf_reg': [1],\n",
    "'iterations': [50]}"
   ]
  },
  {
   "cell_type": "code",
   "execution_count": 11,
   "id": "6c590b07",
   "metadata": {},
   "outputs": [
    {
     "name": "stdout",
     "output_type": "stream",
     "text": [
      "0:\tlearn: 0.9238401\ttest: 0.9225875\tbest: 0.9225875 (0)\ttotal: 189ms\tremaining: 9.29s\n",
      "1:\tlearn: 0.9237564\ttest: 0.9226433\tbest: 0.9226433 (1)\ttotal: 216ms\tremaining: 5.19s\n",
      "2:\tlearn: 0.9257797\ttest: 0.9261595\tbest: 0.9261595 (2)\ttotal: 243ms\tremaining: 3.8s\n",
      "3:\tlearn: 0.9259053\ttest: 0.9261037\tbest: 0.9261595 (2)\ttotal: 273ms\tremaining: 3.13s\n",
      "4:\tlearn: 0.9256820\ttest: 0.9258246\tbest: 0.9261595 (2)\ttotal: 298ms\tremaining: 2.68s\n",
      "5:\tlearn: 0.9256820\ttest: 0.9258246\tbest: 0.9261595 (2)\ttotal: 326ms\tremaining: 2.39s\n",
      "6:\tlearn: 0.9256680\ttest: 0.9257688\tbest: 0.9261595 (2)\ttotal: 355ms\tremaining: 2.18s\n",
      "7:\tlearn: 0.9256680\ttest: 0.9257688\tbest: 0.9261595 (2)\ttotal: 381ms\tremaining: 2s\n",
      "8:\tlearn: 0.9256680\ttest: 0.9257688\tbest: 0.9261595 (2)\ttotal: 411ms\tremaining: 1.87s\n",
      "9:\tlearn: 0.9254448\ttest: 0.9257688\tbest: 0.9261595 (2)\ttotal: 436ms\tremaining: 1.74s\n",
      "10:\tlearn: 0.9254448\ttest: 0.9257688\tbest: 0.9261595 (2)\ttotal: 464ms\tremaining: 1.64s\n",
      "11:\tlearn: 0.9253750\ttest: 0.9258804\tbest: 0.9261595 (2)\ttotal: 489ms\tremaining: 1.55s\n",
      "12:\tlearn: 0.9257239\ttest: 0.9260479\tbest: 0.9261595 (2)\ttotal: 517ms\tremaining: 1.47s\n",
      "13:\tlearn: 0.9257518\ttest: 0.9260479\tbest: 0.9261595 (2)\ttotal: 542ms\tremaining: 1.39s\n",
      "14:\tlearn: 0.9260029\ttest: 0.9261037\tbest: 0.9261595 (2)\ttotal: 569ms\tremaining: 1.33s\n",
      "15:\tlearn: 0.9260867\ttest: 0.9263828\tbest: 0.9263828 (15)\ttotal: 597ms\tremaining: 1.27s\n",
      "16:\tlearn: 0.9258076\ttest: 0.9264386\tbest: 0.9264386 (16)\ttotal: 624ms\tremaining: 1.21s\n",
      "17:\tlearn: 0.9258215\ttest: 0.9264386\tbest: 0.9264386 (16)\ttotal: 650ms\tremaining: 1.16s\n",
      "18:\tlearn: 0.9261843\ttest: 0.9264386\tbest: 0.9264386 (16)\ttotal: 678ms\tremaining: 1.1s\n",
      "19:\tlearn: 0.9261146\ttest: 0.9263828\tbest: 0.9264386 (16)\ttotal: 704ms\tremaining: 1.05s\n",
      "20:\tlearn: 0.9261843\ttest: 0.9264386\tbest: 0.9264386 (16)\ttotal: 728ms\tremaining: 1s\n",
      "21:\tlearn: 0.9261983\ttest: 0.9264386\tbest: 0.9264386 (16)\ttotal: 754ms\tremaining: 959ms\n",
      "22:\tlearn: 0.9284728\ttest: 0.9287269\tbest: 0.9287269 (22)\ttotal: 784ms\tremaining: 920ms\n",
      "23:\tlearn: 0.9288356\ttest: 0.9294525\tbest: 0.9294525 (23)\ttotal: 811ms\tremaining: 878ms\n",
      "24:\tlearn: 0.9292681\ttest: 0.9291734\tbest: 0.9294525 (23)\ttotal: 837ms\tremaining: 837ms\n",
      "25:\tlearn: 0.9312077\ttest: 0.9310152\tbest: 0.9310152 (25)\ttotal: 863ms\tremaining: 796ms\n",
      "26:\tlearn: 0.9321566\ttest: 0.9321315\tbest: 0.9321315 (26)\ttotal: 892ms\tremaining: 759ms\n",
      "27:\tlearn: 0.9321566\ttest: 0.9321873\tbest: 0.9321873 (27)\ttotal: 917ms\tremaining: 720ms\n",
      "28:\tlearn: 0.9321566\ttest: 0.9322989\tbest: 0.9322989 (28)\ttotal: 944ms\tremaining: 684ms\n",
      "29:\tlearn: 0.9321566\ttest: 0.9322431\tbest: 0.9322989 (28)\ttotal: 969ms\tremaining: 646ms\n",
      "30:\tlearn: 0.9322542\ttest: 0.9325222\tbest: 0.9325222 (30)\ttotal: 996ms\tremaining: 611ms\n",
      "31:\tlearn: 0.9322124\ttest: 0.9324106\tbest: 0.9325222 (30)\ttotal: 1.02s\tremaining: 575ms\n",
      "32:\tlearn: 0.9328543\ttest: 0.9329687\tbest: 0.9329687 (32)\ttotal: 1.05s\tremaining: 541ms\n",
      "33:\tlearn: 0.9334682\ttest: 0.9330803\tbest: 0.9330803 (33)\ttotal: 1.07s\tremaining: 506ms\n",
      "34:\tlearn: 0.9335240\ttest: 0.9331361\tbest: 0.9331361 (34)\ttotal: 1.1s\tremaining: 472ms\n",
      "35:\tlearn: 0.9336496\ttest: 0.9331919\tbest: 0.9331919 (35)\ttotal: 1.13s\tremaining: 439ms\n",
      "36:\tlearn: 0.9338031\ttest: 0.9334152\tbest: 0.9334152 (36)\ttotal: 1.15s\tremaining: 406ms\n",
      "37:\tlearn: 0.9378358\ttest: 0.9378802\tbest: 0.9378802 (37)\ttotal: 1.18s\tremaining: 373ms\n",
      "38:\tlearn: 0.9399707\ttest: 0.9400569\tbest: 0.9400569 (38)\ttotal: 1.21s\tremaining: 340ms\n",
      "39:\tlearn: 0.9401521\ttest: 0.9390523\tbest: 0.9400569 (38)\ttotal: 1.23s\tremaining: 308ms\n",
      "40:\tlearn: 0.9411847\ttest: 0.9413964\tbest: 0.9413964 (40)\ttotal: 1.26s\tremaining: 276ms\n",
      "41:\tlearn: 0.9468918\ttest: 0.9461963\tbest: 0.9461963 (41)\ttotal: 1.29s\tremaining: 245ms\n",
      "42:\tlearn: 0.9470174\ttest: 0.9463638\tbest: 0.9463638 (42)\ttotal: 1.31s\tremaining: 213ms\n",
      "43:\tlearn: 0.9487895\ttest: 0.9479266\tbest: 0.9479266 (43)\ttotal: 1.34s\tremaining: 182ms\n",
      "44:\tlearn: 0.9487895\ttest: 0.9479266\tbest: 0.9479266 (43)\ttotal: 1.36s\tremaining: 151ms\n",
      "45:\tlearn: 0.9488314\ttest: 0.9479266\tbest: 0.9479266 (43)\ttotal: 1.39s\tremaining: 121ms\n",
      "46:\tlearn: 0.9490825\ttest: 0.9480382\tbest: 0.9480382 (46)\ttotal: 1.41s\tremaining: 90.2ms\n",
      "47:\tlearn: 0.9490965\ttest: 0.9482056\tbest: 0.9482056 (47)\ttotal: 1.44s\tremaining: 59.9ms\n",
      "48:\tlearn: 0.9490965\ttest: 0.9480940\tbest: 0.9482056 (47)\ttotal: 1.46s\tremaining: 29.8ms\n",
      "49:\tlearn: 0.9492500\ttest: 0.9481498\tbest: 0.9482056 (47)\ttotal: 1.49s\tremaining: 0us\n",
      "\n",
      "bestTest = 0.9482056148\n",
      "bestIteration = 47\n",
      "\n",
      "0:\tloss: 0.9482056\tbest: 0.9482056 (0)\ttotal: 1.63s\tremaining: 0us\n",
      "Estimating final quality...\n",
      "Training on fold [0/3]\n",
      "0:\tlearn: 0.9250837\ttest: 0.9266292\tbest: 0.9266292 (0)\ttotal: 35.3ms\tremaining: 1.73s\n",
      "1:\tlearn: 0.9250837\ttest: 0.9266626\tbest: 0.9266626 (1)\ttotal: 60.1ms\tremaining: 1.44s\n",
      "2:\tlearn: 0.9250167\ttest: 0.9266292\tbest: 0.9266626 (1)\ttotal: 86.3ms\tremaining: 1.35s\n",
      "3:\tlearn: 0.9250335\ttest: 0.9265957\tbest: 0.9266626 (1)\ttotal: 111ms\tremaining: 1.28s\n",
      "4:\tlearn: 0.9256530\ttest: 0.9270645\tbest: 0.9270645 (4)\ttotal: 136ms\tremaining: 1.22s\n",
      "5:\tlearn: 0.9257368\ttest: 0.9270980\tbest: 0.9270980 (5)\ttotal: 163ms\tremaining: 1.19s\n",
      "6:\tlearn: 0.9259879\ttest: 0.9269975\tbest: 0.9270980 (5)\ttotal: 186ms\tremaining: 1.14s\n",
      "7:\tlearn: 0.9257535\ttest: 0.9270980\tbest: 0.9270980 (5)\ttotal: 210ms\tremaining: 1.1s\n",
      "8:\tlearn: 0.9257535\ttest: 0.9270980\tbest: 0.9270980 (5)\ttotal: 235ms\tremaining: 1.07s\n",
      "9:\tlearn: 0.9257703\ttest: 0.9270645\tbest: 0.9270980 (5)\ttotal: 263ms\tremaining: 1.05s\n",
      "10:\tlearn: 0.9258205\ttest: 0.9270310\tbest: 0.9270980 (5)\ttotal: 288ms\tremaining: 1.02s\n",
      "11:\tlearn: 0.9259210\ttest: 0.9269305\tbest: 0.9270980 (5)\ttotal: 312ms\tremaining: 989ms\n",
      "12:\tlearn: 0.9259712\ttest: 0.9270310\tbest: 0.9270980 (5)\ttotal: 338ms\tremaining: 962ms\n",
      "13:\tlearn: 0.9259210\ttest: 0.9269305\tbest: 0.9270980 (5)\ttotal: 363ms\tremaining: 935ms\n",
      "14:\tlearn: 0.9259210\ttest: 0.9269305\tbest: 0.9270980 (5)\ttotal: 388ms\tremaining: 906ms\n",
      "15:\tlearn: 0.9261554\ttest: 0.9272319\tbest: 0.9272319 (15)\ttotal: 415ms\tremaining: 881ms\n",
      "16:\tlearn: 0.9260884\ttest: 0.9272989\tbest: 0.9272989 (16)\ttotal: 441ms\tremaining: 856ms\n",
      "17:\tlearn: 0.9261052\ttest: 0.9272319\tbest: 0.9272989 (16)\ttotal: 470ms\tremaining: 836ms\n",
      "18:\tlearn: 0.9261219\ttest: 0.9273324\tbest: 0.9273324 (18)\ttotal: 494ms\tremaining: 806ms\n",
      "19:\tlearn: 0.9261386\ttest: 0.9273659\tbest: 0.9273659 (19)\ttotal: 518ms\tremaining: 778ms\n",
      "20:\tlearn: 0.9262224\ttest: 0.9274998\tbest: 0.9274998 (20)\ttotal: 542ms\tremaining: 749ms\n",
      "21:\tlearn: 0.9261889\ttest: 0.9274998\tbest: 0.9274998 (20)\ttotal: 567ms\tremaining: 722ms\n",
      "22:\tlearn: 0.9277796\ttest: 0.9294421\tbest: 0.9294421 (22)\ttotal: 594ms\tremaining: 697ms\n",
      "23:\tlearn: 0.9278466\ttest: 0.9295760\tbest: 0.9295760 (23)\ttotal: 618ms\tremaining: 669ms\n",
      "24:\tlearn: 0.9282485\ttest: 0.9297435\tbest: 0.9297435 (24)\ttotal: 648ms\tremaining: 648ms\n",
      "25:\tlearn: 0.9295713\ttest: 0.9307481\tbest: 0.9307481 (25)\ttotal: 674ms\tremaining: 622ms\n",
      "26:\tlearn: 0.9304588\ttest: 0.9318532\tbest: 0.9318532 (26)\ttotal: 701ms\tremaining: 597ms\n",
      "27:\tlearn: 0.9305760\ttest: 0.9319871\tbest: 0.9319871 (27)\ttotal: 725ms\tremaining: 570ms\n",
      "28:\tlearn: 0.9313463\ttest: 0.9326904\tbest: 0.9326904 (28)\ttotal: 750ms\tremaining: 543ms\n",
      "29:\tlearn: 0.9314300\ttest: 0.9327239\tbest: 0.9327239 (29)\ttotal: 776ms\tremaining: 517ms\n",
      "30:\tlearn: 0.9316142\ttest: 0.9329583\tbest: 0.9329583 (30)\ttotal: 801ms\tremaining: 491ms\n",
      "31:\tlearn: 0.9327528\ttest: 0.9341638\tbest: 0.9341638 (31)\ttotal: 826ms\tremaining: 464ms\n",
      "32:\tlearn: 0.9328366\ttest: 0.9341973\tbest: 0.9341973 (32)\ttotal: 851ms\tremaining: 438ms\n",
      "33:\tlearn: 0.9331212\ttest: 0.9343982\tbest: 0.9343982 (33)\ttotal: 877ms\tremaining: 413ms\n",
      "34:\tlearn: 0.9332384\ttest: 0.9344317\tbest: 0.9344317 (34)\ttotal: 905ms\tremaining: 388ms\n",
      "35:\tlearn: 0.9336403\ttest: 0.9346996\tbest: 0.9346996 (35)\ttotal: 930ms\tremaining: 362ms\n",
      "36:\tlearn: 0.9378098\ttest: 0.9388521\tbest: 0.9388521 (36)\ttotal: 954ms\tremaining: 335ms\n",
      "37:\tlearn: 0.9378433\ttest: 0.9388186\tbest: 0.9388521 (36)\ttotal: 976ms\tremaining: 308ms\n",
      "38:\tlearn: 0.9396852\ttest: 0.9408613\tbest: 0.9408613 (38)\ttotal: 1s\tremaining: 282ms\n",
      "39:\tlearn: 0.9458138\ttest: 0.9480946\tbest: 0.9480946 (39)\ttotal: 1.02s\tremaining: 256ms\n",
      "40:\tlearn: 0.9458808\ttest: 0.9481615\tbest: 0.9481615 (40)\ttotal: 1.05s\tremaining: 230ms\n",
      "41:\tlearn: 0.9461487\ttest: 0.9482955\tbest: 0.9482955 (41)\ttotal: 1.07s\tremaining: 204ms\n",
      "42:\tlearn: 0.9476055\ttest: 0.9497689\tbest: 0.9497689 (42)\ttotal: 1.1s\tremaining: 178ms\n"
     ]
    },
    {
     "name": "stdout",
     "output_type": "stream",
     "text": [
      "43:\tlearn: 0.9480743\ttest: 0.9498694\tbest: 0.9498694 (43)\ttotal: 1.12s\tremaining: 153ms\n",
      "44:\tlearn: 0.9481246\ttest: 0.9499699\tbest: 0.9499699 (44)\ttotal: 1.15s\tremaining: 128ms\n",
      "45:\tlearn: 0.9483925\ttest: 0.9501708\tbest: 0.9501708 (45)\ttotal: 1.18s\tremaining: 102ms\n",
      "46:\tlearn: 0.9484260\ttest: 0.9502378\tbest: 0.9502378 (46)\ttotal: 1.2s\tremaining: 76.7ms\n",
      "47:\tlearn: 0.9488111\ttest: 0.9506396\tbest: 0.9506396 (47)\ttotal: 1.23s\tremaining: 51.1ms\n",
      "48:\tlearn: 0.9487944\ttest: 0.9505726\tbest: 0.9506396 (47)\ttotal: 1.25s\tremaining: 25.5ms\n",
      "49:\tlearn: 0.9487944\ttest: 0.9506061\tbest: 0.9506396 (47)\ttotal: 1.27s\tremaining: 0us\n",
      "\n",
      "bestTest = 0.9506396089\n",
      "bestIteration = 47\n",
      "\n",
      "Training on fold [1/3]\n",
      "0:\tlearn: 0.9253709\ttest: 0.9257870\tbest: 0.9257870 (0)\ttotal: 27.9ms\tremaining: 1.37s\n",
      "1:\tlearn: 0.9254044\ttest: 0.9256865\tbest: 0.9257870 (0)\ttotal: 52.7ms\tremaining: 1.26s\n",
      "2:\tlearn: 0.9253709\ttest: 0.9256196\tbest: 0.9257870 (0)\ttotal: 80.9ms\tremaining: 1.27s\n",
      "3:\tlearn: 0.9255551\ttest: 0.9255861\tbest: 0.9257870 (0)\ttotal: 109ms\tremaining: 1.25s\n",
      "4:\tlearn: 0.9260239\ttest: 0.9262559\tbest: 0.9262559 (4)\ttotal: 138ms\tremaining: 1.24s\n",
      "5:\tlearn: 0.9260574\ttest: 0.9263228\tbest: 0.9263228 (5)\ttotal: 164ms\tremaining: 1.21s\n",
      "6:\tlearn: 0.9260574\ttest: 0.9265573\tbest: 0.9265573 (6)\ttotal: 189ms\tremaining: 1.16s\n",
      "7:\tlearn: 0.9260072\ttest: 0.9263898\tbest: 0.9265573 (6)\ttotal: 213ms\tremaining: 1.12s\n",
      "8:\tlearn: 0.9260072\ttest: 0.9263898\tbest: 0.9265573 (6)\ttotal: 239ms\tremaining: 1.09s\n",
      "9:\tlearn: 0.9260741\ttest: 0.9263898\tbest: 0.9265573 (6)\ttotal: 265ms\tremaining: 1.06s\n",
      "10:\tlearn: 0.9261411\ttest: 0.9263898\tbest: 0.9265573 (6)\ttotal: 288ms\tremaining: 1.02s\n",
      "11:\tlearn: 0.9259904\ttest: 0.9263898\tbest: 0.9265573 (6)\ttotal: 313ms\tremaining: 990ms\n",
      "12:\tlearn: 0.9260072\ttest: 0.9263898\tbest: 0.9265573 (6)\ttotal: 337ms\tremaining: 958ms\n",
      "13:\tlearn: 0.9260574\ttest: 0.9264568\tbest: 0.9265573 (6)\ttotal: 361ms\tremaining: 928ms\n",
      "14:\tlearn: 0.9260407\ttest: 0.9264568\tbest: 0.9265573 (6)\ttotal: 385ms\tremaining: 898ms\n",
      "15:\tlearn: 0.9260407\ttest: 0.9264568\tbest: 0.9265573 (6)\ttotal: 409ms\tremaining: 868ms\n",
      "16:\tlearn: 0.9260407\ttest: 0.9266242\tbest: 0.9266242 (16)\ttotal: 432ms\tremaining: 840ms\n",
      "17:\tlearn: 0.9260741\ttest: 0.9264568\tbest: 0.9266242 (16)\ttotal: 458ms\tremaining: 815ms\n",
      "18:\tlearn: 0.9260574\ttest: 0.9266242\tbest: 0.9266242 (16)\ttotal: 488ms\tremaining: 797ms\n",
      "19:\tlearn: 0.9260741\ttest: 0.9266242\tbest: 0.9266242 (16)\ttotal: 514ms\tremaining: 771ms\n",
      "20:\tlearn: 0.9264760\ttest: 0.9267917\tbest: 0.9267917 (20)\ttotal: 538ms\tremaining: 743ms\n",
      "21:\tlearn: 0.9265095\ttest: 0.9267917\tbest: 0.9267917 (20)\ttotal: 562ms\tremaining: 715ms\n",
      "22:\tlearn: 0.9270118\ttest: 0.9274615\tbest: 0.9274615 (22)\ttotal: 587ms\tremaining: 689ms\n",
      "23:\tlearn: 0.9285021\ttest: 0.9289015\tbest: 0.9289015 (23)\ttotal: 612ms\tremaining: 662ms\n",
      "24:\tlearn: 0.9285523\ttest: 0.9291025\tbest: 0.9291025 (24)\ttotal: 636ms\tremaining: 636ms\n",
      "25:\tlearn: 0.9302267\ttest: 0.9301741\tbest: 0.9301741 (25)\ttotal: 660ms\tremaining: 609ms\n",
      "26:\tlearn: 0.9304109\ttest: 0.9303416\tbest: 0.9303416 (26)\ttotal: 686ms\tremaining: 585ms\n",
      "27:\tlearn: 0.9310974\ttest: 0.9305090\tbest: 0.9305090 (27)\ttotal: 711ms\tremaining: 559ms\n",
      "28:\tlearn: 0.9321523\ttest: 0.9319491\tbest: 0.9319491 (28)\ttotal: 735ms\tremaining: 533ms\n",
      "29:\tlearn: 0.9321188\ttest: 0.9319826\tbest: 0.9319826 (29)\ttotal: 760ms\tremaining: 506ms\n",
      "30:\tlearn: 0.9323197\ttest: 0.9321835\tbest: 0.9321835 (30)\ttotal: 784ms\tremaining: 481ms\n",
      "31:\tlearn: 0.9331402\ttest: 0.9335231\tbest: 0.9335231 (31)\ttotal: 809ms\tremaining: 455ms\n",
      "32:\tlearn: 0.9331235\ttest: 0.9333222\tbest: 0.9335231 (31)\ttotal: 831ms\tremaining: 428ms\n",
      "33:\tlearn: 0.9332072\ttest: 0.9333891\tbest: 0.9335231 (31)\ttotal: 855ms\tremaining: 402ms\n",
      "34:\tlearn: 0.9336593\ttest: 0.9338915\tbest: 0.9338915 (34)\ttotal: 880ms\tremaining: 377ms\n",
      "35:\tlearn: 0.9337095\ttest: 0.9339920\tbest: 0.9339920 (35)\ttotal: 906ms\tremaining: 352ms\n",
      "36:\tlearn: 0.9344463\ttest: 0.9343269\tbest: 0.9343269 (36)\ttotal: 932ms\tremaining: 327ms\n",
      "37:\tlearn: 0.9358528\ttest: 0.9355325\tbest: 0.9355325 (37)\ttotal: 957ms\tremaining: 302ms\n",
      "38:\tlearn: 0.9404240\ttest: 0.9396182\tbest: 0.9396182 (38)\ttotal: 981ms\tremaining: 277ms\n",
      "39:\tlearn: 0.9404407\ttest: 0.9396182\tbest: 0.9396182 (38)\ttotal: 1.01s\tremaining: 252ms\n",
      "40:\tlearn: 0.9484947\ttest: 0.9479906\tbest: 0.9479906 (40)\ttotal: 1.03s\tremaining: 226ms\n",
      "41:\tlearn: 0.9486956\ttest: 0.9480576\tbest: 0.9480576 (41)\ttotal: 1.05s\tremaining: 201ms\n",
      "42:\tlearn: 0.9487961\ttest: 0.9486269\tbest: 0.9486269 (42)\ttotal: 1.08s\tremaining: 176ms\n",
      "43:\tlearn: 0.9491477\ttest: 0.9488614\tbest: 0.9488614 (43)\ttotal: 1.11s\tremaining: 152ms\n",
      "44:\tlearn: 0.9492147\ttest: 0.9487609\tbest: 0.9488614 (43)\ttotal: 1.14s\tremaining: 127ms\n",
      "45:\tlearn: 0.9494324\ttest: 0.9489618\tbest: 0.9489618 (45)\ttotal: 1.17s\tremaining: 101ms\n",
      "46:\tlearn: 0.9495161\ttest: 0.9490958\tbest: 0.9490958 (46)\ttotal: 1.19s\tremaining: 75.9ms\n",
      "47:\tlearn: 0.9494659\ttest: 0.9490958\tbest: 0.9490958 (46)\ttotal: 1.21s\tremaining: 50.6ms\n",
      "48:\tlearn: 0.9494156\ttest: 0.9491293\tbest: 0.9491293 (48)\ttotal: 1.24s\tremaining: 25.2ms\n",
      "49:\tlearn: 0.9495328\ttest: 0.9492297\tbest: 0.9492297 (49)\ttotal: 1.26s\tremaining: 0us\n",
      "\n",
      "bestTest = 0.9492297388\n",
      "bestIteration = 49\n",
      "\n",
      "Training on fold [2/3]\n",
      "0:\tlearn: 0.9259904\ttest: 0.9248828\tbest: 0.9248828 (0)\ttotal: 29.6ms\tremaining: 1.45s\n",
      "1:\tlearn: 0.9260239\ttest: 0.9249163\tbest: 0.9249163 (1)\ttotal: 56.3ms\tremaining: 1.35s\n",
      "2:\tlearn: 0.9258900\ttest: 0.9248158\tbest: 0.9249163 (1)\ttotal: 83.4ms\tremaining: 1.31s\n",
      "3:\tlearn: 0.9256890\ttest: 0.9244474\tbest: 0.9249163 (1)\ttotal: 108ms\tremaining: 1.24s\n",
      "4:\tlearn: 0.9257560\ttest: 0.9243804\tbest: 0.9249163 (1)\ttotal: 133ms\tremaining: 1.2s\n",
      "5:\tlearn: 0.9261579\ttest: 0.9249833\tbest: 0.9249833 (5)\ttotal: 162ms\tremaining: 1.18s\n",
      "6:\tlearn: 0.9261579\ttest: 0.9249498\tbest: 0.9249833 (5)\ttotal: 186ms\tremaining: 1.14s\n",
      "7:\tlearn: 0.9259402\ttest: 0.9246484\tbest: 0.9249833 (5)\ttotal: 211ms\tremaining: 1.11s\n",
      "8:\tlearn: 0.9261914\ttest: 0.9249833\tbest: 0.9249833 (5)\ttotal: 236ms\tremaining: 1.07s\n",
      "9:\tlearn: 0.9261746\ttest: 0.9250502\tbest: 0.9250502 (9)\ttotal: 262ms\tremaining: 1.05s\n",
      "10:\tlearn: 0.9262248\ttest: 0.9251172\tbest: 0.9251172 (10)\ttotal: 291ms\tremaining: 1.03s\n",
      "11:\tlearn: 0.9262081\ttest: 0.9250167\tbest: 0.9251172 (10)\ttotal: 315ms\tremaining: 996ms\n",
      "12:\tlearn: 0.9261914\ttest: 0.9249833\tbest: 0.9251172 (10)\ttotal: 339ms\tremaining: 966ms\n",
      "13:\tlearn: 0.9262081\ttest: 0.9251507\tbest: 0.9251507 (13)\ttotal: 364ms\tremaining: 936ms\n",
      "14:\tlearn: 0.9261411\ttest: 0.9252177\tbest: 0.9252177 (14)\ttotal: 388ms\tremaining: 906ms\n",
      "15:\tlearn: 0.9261746\ttest: 0.9250502\tbest: 0.9252177 (14)\ttotal: 412ms\tremaining: 876ms\n",
      "16:\tlearn: 0.9263421\ttest: 0.9253182\tbest: 0.9253182 (16)\ttotal: 437ms\tremaining: 847ms\n",
      "17:\tlearn: 0.9263588\ttest: 0.9253182\tbest: 0.9253182 (16)\ttotal: 462ms\tremaining: 822ms\n",
      "18:\tlearn: 0.9264425\ttest: 0.9252847\tbest: 0.9253182 (16)\ttotal: 490ms\tremaining: 799ms\n",
      "19:\tlearn: 0.9263421\ttest: 0.9252512\tbest: 0.9253182 (16)\ttotal: 514ms\tremaining: 772ms\n",
      "20:\tlearn: 0.9263588\ttest: 0.9252512\tbest: 0.9253182 (16)\ttotal: 540ms\tremaining: 745ms\n",
      "21:\tlearn: 0.9263755\ttest: 0.9252512\tbest: 0.9253182 (16)\ttotal: 565ms\tremaining: 719ms\n",
      "22:\tlearn: 0.9263755\ttest: 0.9252512\tbest: 0.9253182 (16)\ttotal: 594ms\tremaining: 697ms\n",
      "23:\tlearn: 0.9284351\ttest: 0.9273610\tbest: 0.9273610 (23)\ttotal: 619ms\tremaining: 671ms\n",
      "24:\tlearn: 0.9288872\ttest: 0.9277964\tbest: 0.9277964 (24)\ttotal: 645ms\tremaining: 645ms\n",
      "25:\tlearn: 0.9290044\ttest: 0.9279303\tbest: 0.9279303 (25)\ttotal: 669ms\tremaining: 617ms\n",
      "26:\tlearn: 0.9299923\ttest: 0.9288681\tbest: 0.9288681 (26)\ttotal: 695ms\tremaining: 592ms\n",
      "27:\tlearn: 0.9310472\ttest: 0.9301407\tbest: 0.9301407 (27)\ttotal: 719ms\tremaining: 565ms\n",
      "28:\tlearn: 0.9318342\ttest: 0.9309109\tbest: 0.9309109 (28)\ttotal: 745ms\tremaining: 539ms\n",
      "29:\tlearn: 0.9319681\ttest: 0.9310449\tbest: 0.9310449 (29)\ttotal: 770ms\tremaining: 514ms\n",
      "30:\tlearn: 0.9320184\ttest: 0.9311788\tbest: 0.9311788 (30)\ttotal: 799ms\tremaining: 490ms\n",
      "31:\tlearn: 0.9321523\ttest: 0.9313798\tbest: 0.9313798 (31)\ttotal: 825ms\tremaining: 464ms\n",
      "32:\tlearn: 0.9333914\ttest: 0.9319156\tbest: 0.9319156 (32)\ttotal: 850ms\tremaining: 438ms\n",
      "33:\tlearn: 0.9335086\ttest: 0.9318821\tbest: 0.9319156 (32)\ttotal: 876ms\tremaining: 412ms\n",
      "34:\tlearn: 0.9336091\ttest: 0.9321500\tbest: 0.9321500 (34)\ttotal: 902ms\tremaining: 387ms\n",
      "35:\tlearn: 0.9339105\ttest: 0.9327863\tbest: 0.9327863 (35)\ttotal: 929ms\tremaining: 361ms\n",
      "36:\tlearn: 0.9338435\ttest: 0.9326859\tbest: 0.9327863 (35)\ttotal: 957ms\tremaining: 336ms\n",
      "37:\tlearn: 0.9350491\ttest: 0.9346618\tbest: 0.9346618 (37)\ttotal: 981ms\tremaining: 310ms\n",
      "38:\tlearn: 0.9350491\ttest: 0.9344943\tbest: 0.9346618 (37)\ttotal: 1.01s\tremaining: 284ms\n",
      "39:\tlearn: 0.9384649\ttest: 0.9370060\tbest: 0.9370060 (39)\ttotal: 1.03s\tremaining: 258ms\n",
      "40:\tlearn: 0.9385988\ttest: 0.9371065\tbest: 0.9371065 (40)\ttotal: 1.05s\tremaining: 232ms\n",
      "41:\tlearn: 0.9404240\ttest: 0.9392163\tbest: 0.9392163 (41)\ttotal: 1.08s\tremaining: 206ms\n",
      "42:\tlearn: 0.9404072\ttest: 0.9392498\tbest: 0.9392498 (42)\ttotal: 1.1s\tremaining: 180ms\n",
      "43:\tlearn: 0.9404909\ttest: 0.9392163\tbest: 0.9392498 (42)\ttotal: 1.13s\tremaining: 154ms\n"
     ]
    },
    {
     "name": "stdout",
     "output_type": "stream",
     "text": [
      "44:\tlearn: 0.9480426\ttest: 0.9474883\tbest: 0.9474883 (44)\ttotal: 1.15s\tremaining: 128ms\n",
      "45:\tlearn: 0.9487291\ttest: 0.9477227\tbest: 0.9477227 (45)\ttotal: 1.18s\tremaining: 103ms\n",
      "46:\tlearn: 0.9486621\ttest: 0.9478232\tbest: 0.9478232 (46)\ttotal: 1.21s\tremaining: 77ms\n",
      "47:\tlearn: 0.9489635\ttest: 0.9480241\tbest: 0.9480241 (47)\ttotal: 1.23s\tremaining: 51.2ms\n",
      "48:\tlearn: 0.9491310\ttest: 0.9484260\tbest: 0.9484260 (48)\ttotal: 1.26s\tremaining: 25.6ms\n",
      "49:\tlearn: 0.9492147\ttest: 0.9483925\tbest: 0.9484260 (48)\ttotal: 1.3s\tremaining: 0us\n",
      "\n",
      "bestTest = 0.9484259879\n",
      "bestIteration = 48\n",
      "\n"
     ]
    },
    {
     "data": {
      "text/plain": [
       "{'params': {'depth': 4,\n",
       "  'l2_leaf_reg': 1,\n",
       "  'iterations': 50,\n",
       "  'learning_rate': 0.03},\n",
       " 'cv_results': defaultdict(list,\n",
       "             {'iterations': [0,\n",
       "               1,\n",
       "               2,\n",
       "               3,\n",
       "               4,\n",
       "               5,\n",
       "               6,\n",
       "               7,\n",
       "               8,\n",
       "               9,\n",
       "               10,\n",
       "               11,\n",
       "               12,\n",
       "               13,\n",
       "               14,\n",
       "               15,\n",
       "               16,\n",
       "               17,\n",
       "               18,\n",
       "               19,\n",
       "               20,\n",
       "               21,\n",
       "               22,\n",
       "               23,\n",
       "               24,\n",
       "               25,\n",
       "               26,\n",
       "               27,\n",
       "               28,\n",
       "               29,\n",
       "               30,\n",
       "               31,\n",
       "               32,\n",
       "               33,\n",
       "               34,\n",
       "               35,\n",
       "               36,\n",
       "               37,\n",
       "               38,\n",
       "               39,\n",
       "               40,\n",
       "               41,\n",
       "               42,\n",
       "               43,\n",
       "               44,\n",
       "               45,\n",
       "               46,\n",
       "               47,\n",
       "               48,\n",
       "               49],\n",
       "              'test-Accuracy-mean': [0.9257663177235811,\n",
       "               0.9257551537698553,\n",
       "               0.9256881752810715,\n",
       "               0.9255430543497782,\n",
       "               0.9259002664769662,\n",
       "               0.9261346930568418,\n",
       "               0.9261681849180189,\n",
       "               0.9260453874082595,\n",
       "               0.9261570194689873,\n",
       "               0.926168183422713,\n",
       "               0.9261793473764387,\n",
       "               0.9261123703829609,\n",
       "               0.9261346945521476,\n",
       "               0.9261793496193974,\n",
       "               0.9262016760315431,\n",
       "               0.9262463221269578,\n",
       "               0.9264137687227437,\n",
       "               0.92633562777554,\n",
       "               0.9264137679750908,\n",
       "               0.9264137672274377,\n",
       "               0.926514233091481,\n",
       "               0.926514233091481,\n",
       "               0.9273849198012876,\n",
       "               0.9286128694786822,\n",
       "               0.9288807826861643,\n",
       "               0.9296175318573797,\n",
       "               0.9303542787856364,\n",
       "               0.9308789464804456,\n",
       "               0.931850129708066,\n",
       "               0.9319171081968496,\n",
       "               0.9321068774665164,\n",
       "               0.9330222334489787,\n",
       "               0.9331450279681266,\n",
       "               0.9332231659247183,\n",
       "               0.9334910821228122,\n",
       "               0.9338259723237722,\n",
       "               0.935288259610342,\n",
       "               0.9363376017288368,\n",
       "               0.9383246068029628,\n",
       "               0.9415729382771078,\n",
       "               0.9444195543303616,\n",
       "               0.945189812558772,\n",
       "               0.9458818984385552,\n",
       "               0.9459823650502516,\n",
       "               0.9487396747072703,\n",
       "               0.9489517711367356,\n",
       "               0.9490522384960848,\n",
       "               0.9492531672335596,\n",
       "               0.9493759639956662,\n",
       "               0.9494094528662315],\n",
       "              'test-Accuracy-std': [0.0008733710276556501,\n",
       "               0.000875205785482276,\n",
       "               0.000908622127848328,\n",
       "               0.0010747718160189945,\n",
       "               0.0013769069441365053,\n",
       "               0.0010698453060850623,\n",
       "               0.0010778985681450513,\n",
       "               0.0012606112186801437,\n",
       "               0.0010764136371290115,\n",
       "               0.0010252584596782653,\n",
       "               0.0009741032906798494,\n",
       "               0.0009866069371993475,\n",
       "               0.0010474448220321694,\n",
       "               0.0009217887203160713,\n",
       "               0.0008844726704066861,\n",
       "               0.0011059737660928416,\n",
       "               0.0010070129980315238,\n",
       "               0.000962627812065139,\n",
       "               0.0010399660888415646,\n",
       "               0.0010729523346845425,\n",
       "               0.001149720437500398,\n",
       "               0.001149720437500398,\n",
       "               0.0020965129791148634,\n",
       "               0.0011353808331427862,\n",
       "               0.0009923027653782732,\n",
       "               0.0014890655855146534,\n",
       "               0.0014926106462844133,\n",
       "               0.0009772400378251281,\n",
       "               0.0008938475856675463,\n",
       "               0.0008414064399889381,\n",
       "               0.0008921926611656137,\n",
       "               0.0014580422277060301,\n",
       "               0.0011511189723453562,\n",
       "               0.0012662432451198368,\n",
       "               0.0011923797647913138,\n",
       "               0.0009673812911934046,\n",
       "               0.0031935371301933923,\n",
       "               0.002192242749256018,\n",
       "               0.0033748642721547813,\n",
       "               0.005796949932617624,\n",
       "               0.006333870003411418,\n",
       "               0.0051745436985870235,\n",
       "               0.005771851608103899,\n",
       "               0.00588118447039861,\n",
       "               0.0012409273102620664,\n",
       "               0.001224070773632526,\n",
       "               0.0012078815173039734,\n",
       "               0.0013148320282174429,\n",
       "               0.0010943792400790098,\n",
       "               0.001117700651043342],\n",
       "              'train-Accuracy-mean': [0.9254816771454858,\n",
       "               0.9255040028099533,\n",
       "               0.9254258622366387,\n",
       "               0.9254258624235582,\n",
       "               0.9258109870516454,\n",
       "               0.9259840118858668,\n",
       "               0.9260677359314128,\n",
       "               0.9259002908310329,\n",
       "               0.9259840120727861,\n",
       "               0.9260063379241733,\n",
       "               0.9260621526461007,\n",
       "               0.9260398281031502,\n",
       "               0.9260565729122593,\n",
       "               0.9260621537676178,\n",
       "               0.9260342466870332,\n",
       "               0.9261235519617766,\n",
       "               0.9261570397107999,\n",
       "               0.926179365562187,\n",
       "               0.9262072728296911,\n",
       "               0.926184947352143,\n",
       "               0.9263523907702473,\n",
       "               0.9263579718125253,\n",
       "               0.9270556665844895,\n",
       "               0.9282612532134172,\n",
       "               0.9285626541697974,\n",
       "               0.9296008123341805,\n",
       "               0.9302873364232921,\n",
       "               0.9309068749207041,\n",
       "               0.9317775844332368,\n",
       "               0.9318389809451202,\n",
       "               0.9319840998202739,\n",
       "               0.9326817895454117,\n",
       "               0.933117140937127,\n",
       "               0.9332790051821486,\n",
       "               0.933502263135261,\n",
       "               0.9337534313465893,\n",
       "               0.9353665071473266,\n",
       "               0.9362483712676356,\n",
       "               0.9383860742015515,\n",
       "               0.9415731312168348,\n",
       "               0.9443247701101433,\n",
       "               0.94508942710887,\n",
       "               0.9456029336536207,\n",
       "               0.945904335357679,\n",
       "               0.9484606244999764,\n",
       "               0.9488513266188711,\n",
       "               0.9488680712410607,\n",
       "               0.9490801693526513,\n",
       "               0.949113657662433,\n",
       "               0.9491806346558359],\n",
       "              'train-Accuracy-std': [0.00046339139444401197,\n",
       "               0.0004779458776784569,\n",
       "               0.00043919432973752397,\n",
       "               0.0003463426503088706,\n",
       "               0.00019144799286091002,\n",
       "               0.00021992986971760132,\n",
       "               8.543081610004686e-05,\n",
       "               0.0001314478125821201,\n",
       "               0.00021983488349362876,\n",
       "               0.00021052906381725903,\n",
       "               0.00021342654644334642,\n",
       "               0.0001498066861602025,\n",
       "               0.0001181004906712216,\n",
       "               0.00014362554186095555,\n",
       "               0.00011021782491516527,\n",
       "               7.243100497429832e-05,\n",
       "               0.00016199450344182368,\n",
       "               0.00015616292848860474,\n",
       "               0.00020626444198217384,\n",
       "               0.00013982653964292376,\n",
       "               0.00012693846350691769,\n",
       "               0.00016102664839522227,\n",
       "               0.0007030752546359623,\n",
       "               0.00036064321751564017,\n",
       "               0.0003194682006169344,\n",
       "               0.000611698058518626,\n",
       "               0.00025663126554639195,\n",
       "               0.00028762624139124486,\n",
       "               0.0004059794315566069,\n",
       "               0.00036210832726169814,\n",
       "               0.00035401919275485815,\n",
       "               0.0004977737388115921,\n",
       "               0.00027745887908694263,\n",
       "               0.0002034186371039951,\n",
       "               0.00022984866863926947,\n",
       "               0.00014031640207619764,\n",
       "               0.0021372933178424374,\n",
       "               0.001438494396614227,\n",
       "               0.002913449619046825,\n",
       "               0.003803078590854009,\n",
       "               0.005128141342352678,\n",
       "               0.00423634500013222,\n",
       "               0.004538827954309096,\n",
       "               0.004718755888929714,\n",
       "               0.000654329277729215,\n",
       "               0.0005305993377144948,\n",
       "               0.0005734882109787805,\n",
       "               0.00034259957148407926,\n",
       "               0.00031098776057542245,\n",
       "               0.0003704072058510311],\n",
       "              'test-Logloss-mean': [0.6319276968390938,\n",
       "               0.5787182815471779,\n",
       "               0.5332995607230994,\n",
       "               0.4941668920340862,\n",
       "               0.46027068532805787,\n",
       "               0.43099639337553536,\n",
       "               0.4055028885567393,\n",
       "               0.38312374107446834,\n",
       "               0.3637447346219708,\n",
       "               0.34679986478592845,\n",
       "               0.3321287274417891,\n",
       "               0.31903459505765147,\n",
       "               0.30743941892674914,\n",
       "               0.2970942327406508,\n",
       "               0.28822486809604403,\n",
       "               0.2801556607074637,\n",
       "               0.27302124041951276,\n",
       "               0.26671229814716385,\n",
       "               0.26104246244418067,\n",
       "               0.25582417972089516,\n",
       "               0.25109291419371965,\n",
       "               0.24688758266196967,\n",
       "               0.23953667884245286,\n",
       "               0.23257362118034353,\n",
       "               0.22611245072006567,\n",
       "               0.21988437566478114,\n",
       "               0.2145800632851105,\n",
       "               0.20985540209080664,\n",
       "               0.20493334286224144,\n",
       "               0.20170133669985627,\n",
       "               0.19774864127723998,\n",
       "               0.19435460373774263,\n",
       "               0.19154324214964658,\n",
       "               0.18883704954980232,\n",
       "               0.18652147632579705,\n",
       "               0.18362108418472936,\n",
       "               0.1815398381784429,\n",
       "               0.17950733400233795,\n",
       "               0.17733306538111093,\n",
       "               0.17559115999539845,\n",
       "               0.17397802665661888,\n",
       "               0.17221228519649112,\n",
       "               0.17044463939948695,\n",
       "               0.16908616414269875,\n",
       "               0.1675235678607677,\n",
       "               0.16610625562947934,\n",
       "               0.16502049559110593,\n",
       "               0.16372300803830653,\n",
       "               0.1626572109152559,\n",
       "               0.16161385005545184],\n",
       "              'test-Logloss-std': [0.0007701625431007658,\n",
       "               0.0014273212759329794,\n",
       "               0.002241785222089555,\n",
       "               0.002471848787319384,\n",
       "               0.002802960718788749,\n",
       "               0.0035287922926411225,\n",
       "               0.00378564264406512,\n",
       "               0.003889361067360601,\n",
       "               0.0033537761555554367,\n",
       "               0.003246393878932849,\n",
       "               0.0037845710966340706,\n",
       "               0.0035900601016207742,\n",
       "               0.0033484045256479624,\n",
       "               0.002976127026578714,\n",
       "               0.002727345939225858,\n",
       "               0.0024062752768452362,\n",
       "               0.0023739825612956998,\n",
       "               0.002419092620239504,\n",
       "               0.0021459199020726484,\n",
       "               0.0021014256183966617,\n",
       "               0.0018951536163106684,\n",
       "               0.001843384214372864,\n",
       "               0.004289518373421533,\n",
       "               0.0026749218366110606,\n",
       "               0.0011497645084963158,\n",
       "               0.00223184813372242,\n",
       "               0.0014954378738500703,\n",
       "               0.0017858665078334854,\n",
       "               0.0015899734965081716,\n",
       "               0.0013717547532688193,\n",
       "               0.0011250364042995225,\n",
       "               0.0007059597303138149,\n",
       "               0.0007488637952236643,\n",
       "               0.0005340923978576946,\n",
       "               0.00048551704766427913,\n",
       "               0.0011417924536010204,\n",
       "               0.0010265563665030257,\n",
       "               0.000850978326035893,\n",
       "               0.0014287180106670975,\n",
       "               0.0012649179060932035,\n",
       "               0.0012156422907655805,\n",
       "               0.000893922816290224,\n",
       "               0.0011935237352122398,\n",
       "               0.001146305718699565,\n",
       "               0.0012156500131973317,\n",
       "               0.0015071159421078562,\n",
       "               0.0018344874417424975,\n",
       "               0.0016174838459337647,\n",
       "               0.001638793897339503,\n",
       "               0.0014981462414908194],\n",
       "              'train-Logloss-mean': [0.631928339544348,\n",
       "               0.5785837184613049,\n",
       "               0.5330546738287749,\n",
       "               0.493937112127715,\n",
       "               0.46005594980944436,\n",
       "               0.4307918560677806,\n",
       "               0.40530481724801826,\n",
       "               0.38288387234130167,\n",
       "               0.363525541272153,\n",
       "               0.34659691657314734,\n",
       "               0.33194989182003853,\n",
       "               0.3188348702362796,\n",
       "               0.30730472627169264,\n",
       "               0.29697373943950517,\n",
       "               0.28811559912749574,\n",
       "               0.28002704673172824,\n",
       "               0.2729095407060223,\n",
       "               0.26662408827677836,\n",
       "               0.26094863582152017,\n",
       "               0.25574108725756944,\n",
       "               0.25099896812668804,\n",
       "               0.24680557042450146,\n",
       "               0.23951647041420218,\n",
       "               0.23257247757203037,\n",
       "               0.22613122853695178,\n",
       "               0.21989582982587078,\n",
       "               0.21461004975787165,\n",
       "               0.20989022939029542,\n",
       "               0.20497546248814405,\n",
       "               0.20177439686338017,\n",
       "               0.19783054146732493,\n",
       "               0.1944548246839386,\n",
       "               0.19163023562300807,\n",
       "               0.1889362474620064,\n",
       "               0.18661551876729507,\n",
       "               0.18372602313194375,\n",
       "               0.18164975247562754,\n",
       "               0.17962027841177255,\n",
       "               0.17745812061004365,\n",
       "               0.1757331207750098,\n",
       "               0.17411464278898195,\n",
       "               0.1723628435508298,\n",
       "               0.17059481948185953,\n",
       "               0.16923759274845543,\n",
       "               0.1676707503411999,\n",
       "               0.16625595723736977,\n",
       "               0.16517216792223613,\n",
       "               0.16388072336254444,\n",
       "               0.16282065018658654,\n",
       "               0.16177565145547657],\n",
       "              'train-Logloss-std': [0.0008518420041154324,\n",
       "               0.0015651848554701208,\n",
       "               0.002379504425844892,\n",
       "               0.0024490364233768105,\n",
       "               0.002814817194472743,\n",
       "               0.0034928522773676265,\n",
       "               0.0037497883168091804,\n",
       "               0.00375886777647667,\n",
       "               0.0033766014014137502,\n",
       "               0.0033018621020964012,\n",
       "               0.0036960381094104286,\n",
       "               0.003462933471312933,\n",
       "               0.0032955028397330115,\n",
       "               0.0028394533622773197,\n",
       "               0.002600367712848198,\n",
       "               0.0022358165420002882,\n",
       "               0.0020376758665193416,\n",
       "               0.0021476430658273213,\n",
       "               0.0019184364049344373,\n",
       "               0.00178702833927545,\n",
       "               0.0016146047105171208,\n",
       "               0.0015180810532740105,\n",
       "               0.003999777792910958,\n",
       "               0.002278722060547513,\n",
       "               0.0005697343889654104,\n",
       "               0.0014003106667748806,\n",
       "               0.00038611231574365646,\n",
       "               0.0010015754872170202,\n",
       "               0.0008707564468770784,\n",
       "               0.0007810863376292638,\n",
       "               0.0006331595830493227,\n",
       "               0.0009082082868530049,\n",
       "               0.0009934616961368725,\n",
       "               0.0011165291541275504,\n",
       "               0.0012315899313357,\n",
       "               0.0006330466196951539,\n",
       "               0.0007194011341363213,\n",
       "               0.0009486862525392729,\n",
       "               0.0003469103131133083,\n",
       "               0.0005340617242420481,\n",
       "               0.0006051374834070172,\n",
       "               0.0009948623258794432,\n",
       "               0.0007396380493142748,\n",
       "               0.0008556503288591861,\n",
       "               0.001193773881130436,\n",
       "               0.0010590963303428059,\n",
       "               0.0008336795244762663,\n",
       "               0.0006955136901069414,\n",
       "               0.0008356393888882911,\n",
       "               0.001272864406582485]})}"
      ]
     },
     "execution_count": 11,
     "metadata": {},
     "output_type": "execute_result"
    }
   ],
   "source": [
    "model.grid_search(grid,train_dataset)"
   ]
  },
  {
   "cell_type": "code",
   "execution_count": 12,
   "id": "4ae6d2e9",
   "metadata": {},
   "outputs": [
    {
     "data": {
      "text/plain": [
       "{'loss_function': 'Logloss',\n",
       " 'eval_metric': 'Accuracy',\n",
       " 'depth': 4,\n",
       " 'l2_leaf_reg': 1,\n",
       " 'iterations': 50,\n",
       " 'learning_rate': 0.03}"
      ]
     },
     "execution_count": 12,
     "metadata": {},
     "output_type": "execute_result"
    }
   ],
   "source": [
    "model.get_params()"
   ]
  },
  {
   "cell_type": "code",
   "execution_count": 13,
   "id": "4e0e1b2a",
   "metadata": {},
   "outputs": [
    {
     "name": "stdout",
     "output_type": "stream",
     "text": [
      "              precision    recall  f1-score   support\n",
      "\n",
      "           0       0.98      0.93      0.96     36241\n",
      "           1       0.77      0.92      0.84      8958\n",
      "\n",
      "    accuracy                           0.93     45199\n",
      "   macro avg       0.87      0.93      0.90     45199\n",
      "weighted avg       0.94      0.93      0.93     45199\n",
      "\n"
     ]
    }
   ],
   "source": [
    "pred = model.predict(X_test)\n",
    "print(classification_report(y_test, pred))"
   ]
  },
  {
   "cell_type": "code",
   "execution_count": 14,
   "id": "d513d416",
   "metadata": {},
   "outputs": [],
   "source": [
    "def plot_feature_importance(importance,names,model_type):\n",
    "\n",
    "#Create arrays from feature importance and feature names\n",
    "    feature_importance = np.array(importance)\n",
    "    feature_names = np.array(names)\n",
    "\n",
    "#Create a DataFrame using a Dictionary\n",
    "    data={'feature_names':feature_names,'feature_importance':feature_importance}\n",
    "    fi_df = pd.DataFrame(data)\n",
    "\n",
    "#Sort the DataFrame in order decreasing feature importance\n",
    "    fi_df.sort_values(by=['feature_importance'], ascending=False,inplace=True)\n",
    "\n",
    "#Define size of bar plot\n",
    "    plt.figure(figsize=(10,8))\n",
    "#Plot Searborn bar chart\n",
    "    sns.barplot(x=fi_df['feature_importance'], y=fi_df['feature_names'])\n",
    "#Add chart labels\n",
    "    plt.title(model_type + ' FEATURE IMPORTANCE')\n",
    "    plt.xlabel('FEATURE IMPORTANCE')\n",
    "    plt.ylabel('FEATURE NAMES')"
   ]
  },
  {
   "cell_type": "code",
   "execution_count": 15,
   "id": "482b9955",
   "metadata": {},
   "outputs": [
    {
     "data": {
      "image/png": "[encoded data removed]",
      "text/plain": [
       "<Figure size 720x576 with 1 Axes>"
      ]
     },
     "metadata": {
      "needs_background": "light"
     },
     "output_type": "display_data"
    }
   ],
   "source": [
    "plot_feature_importance(model.get_feature_importance(),X.columns,'CATBOOST')"
   ]
  },
  {
   "cell_type": "code",
   "execution_count": 16,
   "id": "07dfcd50",
   "metadata": {},
   "outputs": [
    {
     "data": {
      "text/html": [
       "        <script type=\"text/javascript\">\n",
       "        window.PlotlyConfig = {MathJaxConfig: 'local'};\n",
       "        if (window.MathJax) {MathJax.Hub.Config({SVG: {font: \"STIX-Web\"}});}\n",
       "        if (typeof require !== 'undefined') {\n",
       "        require.undef(\"plotly\");\n",
       "        requirejs.config({\n",
       "            paths: {\n",
       "                'plotly': ['https://cdn.plot.ly/plotly-2.9.0.min']\n",
       "            }\n",
       "        });\n",
       "        require(['plotly'], function(Plotly) {\n",
       "            window._Plotly = Plotly;\n",
       "        });\n",
       "        }\n",
       "        </script>\n",
       "        "
      ]
     },
     "metadata": {},
     "output_type": "display_data"
    },
    {
     "data": {
      "application/vnd.plotly.v1+json": {
       "config": {
        "linkText": "Export to plot.ly",
        "plotlyServerURL": "https://plot.ly",
        "showLink": false
       },
       "data": [
        {
         "mode": "lines+markers",
         "name": "Mean target",
         "type": "scatter",
         "xaxis": "x",
         "y": [
          0.03908918425440788,
          0.6521252989768982,
          0.602222740650177,
          0.7738614678382874
         ],
         "yaxis": "y"
        },
        {
         "line": {
          "dash": "dash"
         },
         "mode": "lines+markers",
         "name": "Mean prediction on each segment of feature values",
         "type": "scatter",
         "xaxis": "x",
         "y": [
          0.032141294330358505,
          0.818791925907135,
          0.8256540894508362,
          0.9260163903236389
         ],
         "yaxis": "y"
        },
        {
         "marker": {
          "color": "rgba(30, 150, 30, 0.4)"
         },
         "name": "Objects per bin",
         "type": "bar",
         "width": 0.8,
         "xaxis": "x",
         "y": [
          34255,
          894,
          4319,
          5731
         ],
         "yaxis": "y2"
        },
        {
         "line": {
          "dash": "dashdot"
         },
         "mode": "lines+markers",
         "name": "Mean prediction with substituted feature",
         "type": "scatter",
         "xaxis": "x",
         "y": [
          0.10471470607756808,
          0.4748556383990796,
          0.4748556383990796,
          0.4748556383990796
         ],
         "yaxis": "y"
        }
       ],
       "layout": {
        "annotations": [
         {
          "align": "left",
          "showarrow": false,
          "text": "Statistics for feature",
          "x": 0,
          "xref": "paper",
          "y": 1.05,
          "yref": "paper"
         }
        ],
        "legend": {
         "bgcolor": "rgba(0,0,0,0)",
         "x": 1.07
        },
        "template": {
         "data": {
          "bar": [
           {
            "error_x": {
             "color": "#2a3f5f"
            },
            "error_y": {
             "color": "#2a3f5f"
            },
            "marker": {
             "line": {
              "color": "#E5ECF6",
              "width": 0.5
             },
             "pattern": {
              "fillmode": "overlay",
              "size": 10,
              "solidity": 0.2
             }
            },
            "type": "bar"
           }
          ],
          "barpolar": [
           {
            "marker": {
             "line": {
              "color": "#E5ECF6",
              "width": 0.5
             },
             "pattern": {
              "fillmode": "overlay",
              "size": 10,
              "solidity": 0.2
             }
            },
            "type": "barpolar"
           }
          ],
          "carpet": [
           {
            "aaxis": {
             "endlinecolor": "#2a3f5f",
             "gridcolor": "white",
             "linecolor": "white",
             "minorgridcolor": "white",
             "startlinecolor": "#2a3f5f"
            },
            "baxis": {
             "endlinecolor": "#2a3f5f",
             "gridcolor": "white",
             "linecolor": "white",
             "minorgridcolor": "white",
             "startlinecolor": "#2a3f5f"
            },
            "type": "carpet"
           }
          ],
          "choropleth": [
           {
            "colorbar": {
             "outlinewidth": 0,
             "ticks": ""
            },
            "type": "choropleth"
           }
          ],
          "contour": [
           {
            "colorbar": {
             "outlinewidth": 0,
             "ticks": ""
            },
            "colorscale": [
             [
              0,
              "#0d0887"
             ],
             [
              0.1111111111111111,
              "#46039f"
             ],
             [
              0.2222222222222222,
              "#7201a8"
             ],
             [
              0.3333333333333333,
              "#9c179e"
             ],
             [
              0.4444444444444444,
              "#bd3786"
             ],
             [
              0.5555555555555556,
              "#d8576b"
             ],
             [
              0.6666666666666666,
              "#ed7953"
             ],
             [
              0.7777777777777778,
              "#fb9f3a"
             ],
             [
              0.8888888888888888,
              "#fdca26"
             ],
             [
              1,
              "#f0f921"
             ]
            ],
            "type": "contour"
           }
          ],
          "contourcarpet": [
           {
            "colorbar": {
             "outlinewidth": 0,
             "ticks": ""
            },
            "type": "contourcarpet"
           }
          ],
          "heatmap": [
           {
            "colorbar": {
             "outlinewidth": 0,
             "ticks": ""
            },
            "colorscale": [
             [
              0,
              "#0d0887"
             ],
             [
              0.1111111111111111,
              "#46039f"
             ],
             [
              0.2222222222222222,
              "#7201a8"
             ],
             [
              0.3333333333333333,
              "#9c179e"
             ],
             [
              0.4444444444444444,
              "#bd3786"
             ],
             [
              0.5555555555555556,
              "#d8576b"
             ],
             [
              0.6666666666666666,
              "#ed7953"
             ],
             [
              0.7777777777777778,
              "#fb9f3a"
             ],
             [
              0.8888888888888888,
              "#fdca26"
             ],
             [
              1,
              "#f0f921"
             ]
            ],
            "type": "heatmap"
           }
          ],
          "heatmapgl": [
           {
            "colorbar": {
             "outlinewidth": 0,
             "ticks": ""
            },
            "colorscale": [
             [
              0,
              "#0d0887"
             ],
             [
              0.1111111111111111,
              "#46039f"
             ],
             [
              0.2222222222222222,
              "#7201a8"
             ],
             [
              0.3333333333333333,
              "#9c179e"
             ],
             [
              0.4444444444444444,
              "#bd3786"
             ],
             [
              0.5555555555555556,
              "#d8576b"
             ],
             [
              0.6666666666666666,
              "#ed7953"
             ],
             [
              0.7777777777777778,
              "#fb9f3a"
             ],
             [
              0.8888888888888888,
              "#fdca26"
             ],
             [
              1,
              "#f0f921"
             ]
            ],
            "type": "heatmapgl"
           }
          ],
          "histogram": [
           {
            "marker": {
             "pattern": {
              "fillmode": "overlay",
              "size": 10,
              "solidity": 0.2
             }
            },
            "type": "histogram"
           }
          ],
          "histogram2d": [
           {
            "colorbar": {
             "outlinewidth": 0,
             "ticks": ""
            },
            "colorscale": [
             [
              0,
              "#0d0887"
             ],
             [
              0.1111111111111111,
              "#46039f"
             ],
             [
              0.2222222222222222,
              "#7201a8"
             ],
             [
              0.3333333333333333,
              "#9c179e"
             ],
             [
              0.4444444444444444,
              "#bd3786"
             ],
             [
              0.5555555555555556,
              "#d8576b"
             ],
             [
              0.6666666666666666,
              "#ed7953"
             ],
             [
              0.7777777777777778,
              "#fb9f3a"
             ],
             [
              0.8888888888888888,
              "#fdca26"
             ],
             [
              1,
              "#f0f921"
             ]
            ],
            "type": "histogram2d"
           }
          ],
          "histogram2dcontour": [
           {
            "colorbar": {
             "outlinewidth": 0,
             "ticks": ""
            },
            "colorscale": [
             [
              0,
              "#0d0887"
             ],
             [
              0.1111111111111111,
              "#46039f"
             ],
             [
              0.2222222222222222,
              "#7201a8"
             ],
             [
              0.3333333333333333,
              "#9c179e"
             ],
             [
              0.4444444444444444,
              "#bd3786"
             ],
             [
              0.5555555555555556,
              "#d8576b"
             ],
             [
              0.6666666666666666,
              "#ed7953"
             ],
             [
              0.7777777777777778,
              "#fb9f3a"
             ],
             [
              0.8888888888888888,
              "#fdca26"
             ],
             [
              1,
              "#f0f921"
             ]
            ],
            "type": "histogram2dcontour"
           }
          ],
          "mesh3d": [
           {
            "colorbar": {
             "outlinewidth": 0,
             "ticks": ""
            },
            "type": "mesh3d"
           }
          ],
          "parcoords": [
           {
            "line": {
             "colorbar": {
              "outlinewidth": 0,
              "ticks": ""
             }
            },
            "type": "parcoords"
           }
          ],
          "pie": [
           {
            "automargin": true,
            "type": "pie"
           }
          ],
          "scatter": [
           {
            "marker": {
             "colorbar": {
              "outlinewidth": 0,
              "ticks": ""
             }
            },
            "type": "scatter"
           }
          ],
          "scatter3d": [
           {
            "line": {
             "colorbar": {
              "outlinewidth": 0,
              "ticks": ""
             }
            },
            "marker": {
             "colorbar": {
              "outlinewidth": 0,
              "ticks": ""
             }
            },
            "type": "scatter3d"
           }
          ],
          "scattercarpet": [
           {
            "marker": {
             "colorbar": {
              "outlinewidth": 0,
              "ticks": ""
             }
            },
            "type": "scattercarpet"
           }
          ],
          "scattergeo": [
           {
            "marker": {
             "colorbar": {
              "outlinewidth": 0,
              "ticks": ""
             }
            },
            "type": "scattergeo"
           }
          ],
          "scattergl": [
           {
            "marker": {
             "colorbar": {
              "outlinewidth": 0,
              "ticks": ""
             }
            },
            "type": "scattergl"
           }
          ],
          "scattermapbox": [
           {
            "marker": {
             "colorbar": {
              "outlinewidth": 0,
              "ticks": ""
             }
            },
            "type": "scattermapbox"
           }
          ],
          "scatterpolar": [
           {
            "marker": {
             "colorbar": {
              "outlinewidth": 0,
              "ticks": ""
             }
            },
            "type": "scatterpolar"
           }
          ],
          "scatterpolargl": [
           {
            "marker": {
             "colorbar": {
              "outlinewidth": 0,
              "ticks": ""
             }
            },
            "type": "scatterpolargl"
           }
          ],
          "scatterternary": [
           {
            "marker": {
             "colorbar": {
              "outlinewidth": 0,
              "ticks": ""
             }
            },
            "type": "scatterternary"
           }
          ],
          "surface": [
           {
            "colorbar": {
             "outlinewidth": 0,
             "ticks": ""
            },
            "colorscale": [
             [
              0,
              "#0d0887"
             ],
             [
              0.1111111111111111,
              "#46039f"
             ],
             [
              0.2222222222222222,
              "#7201a8"
             ],
             [
              0.3333333333333333,
              "#9c179e"
             ],
             [
              0.4444444444444444,
              "#bd3786"
             ],
             [
              0.5555555555555556,
              "#d8576b"
             ],
             [
              0.6666666666666666,
              "#ed7953"
             ],
             [
              0.7777777777777778,
              "#fb9f3a"
             ],
             [
              0.8888888888888888,
              "#fdca26"
             ],
             [
              1,
              "#f0f921"
             ]
            ],
            "type": "surface"
           }
          ],
          "table": [
           {
            "cells": {
             "fill": {
              "color": "#EBF0F8"
             },
             "line": {
              "color": "white"
             }
            },
            "header": {
             "fill": {
              "color": "#C8D4E3"
             },
             "line": {
              "color": "white"
             }
            },
            "type": "table"
           }
          ]
         },
         "layout": {
          "annotationdefaults": {
           "arrowcolor": "#2a3f5f",
           "arrowhead": 0,
           "arrowwidth": 1
          },
          "autotypenumbers": "strict",
          "coloraxis": {
           "colorbar": {
            "outlinewidth": 0,
            "ticks": ""
           }
          },
          "colorscale": {
           "diverging": [
            [
             0,
             "#8e0152"
            ],
            [
             0.1,
             "#c51b7d"
            ],
            [
             0.2,
             "#de77ae"
            ],
            [
             0.3,
             "#f1b6da"
            ],
            [
             0.4,
             "#fde0ef"
            ],
            [
             0.5,
             "#f7f7f7"
            ],
            [
             0.6,
             "#e6f5d0"
            ],
            [
             0.7,
             "#b8e186"
            ],
            [
             0.8,
             "#7fbc41"
            ],
            [
             0.9,
             "#4d9221"
            ],
            [
             1,
             "#276419"
            ]
           ],
           "sequential": [
            [
             0,
             "#0d0887"
            ],
            [
             0.1111111111111111,
             "#46039f"
            ],
            [
             0.2222222222222222,
             "#7201a8"
            ],
            [
             0.3333333333333333,
             "#9c179e"
            ],
            [
             0.4444444444444444,
             "#bd3786"
            ],
            [
             0.5555555555555556,
             "#d8576b"
            ],
            [
             0.6666666666666666,
             "#ed7953"
            ],
            [
             0.7777777777777778,
             "#fb9f3a"
            ],
            [
             0.8888888888888888,
             "#fdca26"
            ],
            [
             1,
             "#f0f921"
            ]
           ],
           "sequentialminus": [
            [
             0,
             "#0d0887"
            ],
            [
             0.1111111111111111,
             "#46039f"
            ],
            [
             0.2222222222222222,
             "#7201a8"
            ],
            [
             0.3333333333333333,
             "#9c179e"
            ],
            [
             0.4444444444444444,
             "#bd3786"
            ],
            [
             0.5555555555555556,
             "#d8576b"
            ],
            [
             0.6666666666666666,
             "#ed7953"
            ],
            [
             0.7777777777777778,
             "#fb9f3a"
            ],
            [
             0.8888888888888888,
             "#fdca26"
            ],
            [
             1,
             "#f0f921"
            ]
           ]
          },
          "colorway": [
           "#636efa",
           "#EF553B",
           "#00cc96",
           "#ab63fa",
           "#FFA15A",
           "#19d3f3",
           "#FF6692",
           "#B6E880",
           "#FF97FF",
           "#FECB52"
          ],
          "font": {
           "color": "#2a3f5f"
          },
          "geo": {
           "bgcolor": "white",
           "lakecolor": "white",
           "landcolor": "#E5ECF6",
           "showlakes": true,
           "showland": true,
           "subunitcolor": "white"
          },
          "hoverlabel": {
           "align": "left"
          },
          "hovermode": "closest",
          "mapbox": {
           "style": "light"
          },
          "paper_bgcolor": "white",
          "plot_bgcolor": "#E5ECF6",
          "polar": {
           "angularaxis": {
            "gridcolor": "white",
            "linecolor": "white",
            "ticks": ""
           },
           "bgcolor": "#E5ECF6",
           "radialaxis": {
            "gridcolor": "white",
            "linecolor": "white",
            "ticks": ""
           }
          },
          "scene": {
           "xaxis": {
            "backgroundcolor": "#E5ECF6",
            "gridcolor": "white",
            "gridwidth": 2,
            "linecolor": "white",
            "showbackground": true,
            "ticks": "",
            "zerolinecolor": "white"
           },
           "yaxis": {
            "backgroundcolor": "#E5ECF6",
            "gridcolor": "white",
            "gridwidth": 2,
            "linecolor": "white",
            "showbackground": true,
            "ticks": "",
            "zerolinecolor": "white"
           },
           "zaxis": {
            "backgroundcolor": "#E5ECF6",
            "gridcolor": "white",
            "gridwidth": 2,
            "linecolor": "white",
            "showbackground": true,
            "ticks": "",
            "zerolinecolor": "white"
           }
          },
          "shapedefaults": {
           "line": {
            "color": "#2a3f5f"
           }
          },
          "ternary": {
           "aaxis": {
            "gridcolor": "white",
            "linecolor": "white",
            "ticks": ""
           },
           "baxis": {
            "gridcolor": "white",
            "linecolor": "white",
            "ticks": ""
           },
           "bgcolor": "#E5ECF6",
           "caxis": {
            "gridcolor": "white",
            "linecolor": "white",
            "ticks": ""
           }
          },
          "title": {
           "x": 0.05
          },
          "xaxis": {
           "automargin": true,
           "gridcolor": "white",
           "linecolor": "white",
           "ticks": "",
           "title": {
            "standoff": 15
           },
           "zerolinecolor": "white",
           "zerolinewidth": 2
          },
          "yaxis": {
           "automargin": true,
           "gridcolor": "white",
           "linecolor": "white",
           "ticks": "",
           "title": {
            "standoff": 15
           },
           "zerolinecolor": "white",
           "zerolinewidth": 2
          }
         }
        },
        "updatemenus": [
         {
          "buttons": [
           {
            "args": [
             {
              "y": [
               [
                0.03908918425440788,
                0.6521252989768982,
                0.602222740650177,
                0.7738614678382874
               ],
               [
                0.032141294330358505,
                0.818791925907135,
                0.8256540894508362,
                0.9260163903236389
               ],
               [
                34255,
                894,
                4319,
                5731
               ],
               [
                0.10471470607756808,
                0.4748556383990796,
                0.4748556383990796,
                0.4748556383990796
               ]
              ]
             },
             {
              "xaxis": {
               "showticklabels": false,
               "tickmode": "array",
               "ticktext": [
                "(-inf, 0.5000]",
                "(0.5000, 1.5000]",
                "(1.5000, 5.5000]",
                "(5.5000, +inf)"
               ],
               "tickvals": [
                0,
                1,
                2,
                3
               ],
               "title": {
                "text": "Bins"
               }
              }
             }
            ],
            "label": "Employment_Length",
            "method": "update"
           }
          ],
          "direction": "down",
          "pad": {
           "r": 10,
           "t": 10
          },
          "showactive": true,
          "x": 0.25,
          "xanchor": "left",
          "y": 1.09,
          "yanchor": "top"
         }
        ],
        "xaxis": {
         "showticklabels": false,
         "tickmode": "array",
         "ticktext": [
          "(-inf, 0.5000]",
          "(0.5000, 1.5000]",
          "(1.5000, 5.5000]",
          "(5.5000, +inf)"
         ],
         "tickvals": [
          0,
          1,
          2,
          3
         ],
         "title": {
          "text": "Bins"
         }
        },
        "yaxis": {
         "overlaying": "y2",
         "side": "left",
         "title": {
          "text": "Prediction and target"
         }
        },
        "yaxis2": {
         "position": 1,
         "side": "right",
         "title": {
          "text": "Objects per bin"
         }
        }
       }
      },
      "text/html": [
       "<div>                            <div id=\"89fee29b-a71d-4eb6-b3e4-61aaac78dad9\" class=\"plotly-graph-div\" style=\"height:525px; width:100%;\"></div>            <script type=\"text/javascript\">                require([\"plotly\"], function(Plotly) {                    window.PLOTLYENV=window.PLOTLYENV || {};                                    if (document.getElementById(\"89fee29b-a71d-4eb6-b3e4-61aaac78dad9\")) {                    Plotly.newPlot(                        \"89fee29b-a71d-4eb6-b3e4-61aaac78dad9\",                        [{\"mode\":\"lines+markers\",\"name\":\"Mean target\",\"xaxis\":\"x\",\"y\":[0.03908918425440788,0.6521252989768982,0.602222740650177,0.7738614678382874],\"yaxis\":\"y\",\"type\":\"scatter\"},{\"line\":{\"dash\":\"dash\"},\"mode\":\"lines+markers\",\"name\":\"Mean prediction on each segment of feature values\",\"xaxis\":\"x\",\"y\":[0.032141294330358505,0.818791925907135,0.8256540894508362,0.9260163903236389],\"yaxis\":\"y\",\"type\":\"scatter\"},{\"marker\":{\"color\":\"rgba(30, 150, 30, 0.4)\"},\"name\":\"Objects per bin\",\"width\":0.8,\"xaxis\":\"x\",\"y\":[34255,894,4319,5731],\"yaxis\":\"y2\",\"type\":\"bar\"},{\"line\":{\"dash\":\"dashdot\"},\"mode\":\"lines+markers\",\"name\":\"Mean prediction with substituted feature\",\"xaxis\":\"x\",\"y\":[0.10471470607756808,0.4748556383990796,0.4748556383990796,0.4748556383990796],\"yaxis\":\"y\",\"type\":\"scatter\"}],                        {\"annotations\":[{\"align\":\"left\",\"showarrow\":false,\"text\":\"Statistics for feature\",\"x\":0,\"xref\":\"paper\",\"y\":1.05,\"yref\":\"paper\"}],\"legend\":{\"bgcolor\":\"rgba(0,0,0,0)\",\"x\":1.07},\"template\":{\"data\":{\"barpolar\":[{\"marker\":{\"line\":{\"color\":\"#E5ECF6\",\"width\":0.5},\"pattern\":{\"fillmode\":\"overlay\",\"size\":10,\"solidity\":0.2}},\"type\":\"barpolar\"}],\"bar\":[{\"error_x\":{\"color\":\"#2a3f5f\"},\"error_y\":{\"color\":\"#2a3f5f\"},\"marker\":{\"line\":{\"color\":\"#E5ECF6\",\"width\":0.5},\"pattern\":{\"fillmode\":\"overlay\",\"size\":10,\"solidity\":0.2}},\"type\":\"bar\"}],\"carpet\":[{\"aaxis\":{\"endlinecolor\":\"#2a3f5f\",\"gridcolor\":\"white\",\"linecolor\":\"white\",\"minorgridcolor\":\"white\",\"startlinecolor\":\"#2a3f5f\"},\"baxis\":{\"endlinecolor\":\"#2a3f5f\",\"gridcolor\":\"white\",\"linecolor\":\"white\",\"minorgridcolor\":\"white\",\"startlinecolor\":\"#2a3f5f\"},\"type\":\"carpet\"}],\"choropleth\":[{\"colorbar\":{\"outlinewidth\":0,\"ticks\":\"\"},\"type\":\"choropleth\"}],\"contourcarpet\":[{\"colorbar\":{\"outlinewidth\":0,\"ticks\":\"\"},\"type\":\"contourcarpet\"}],\"contour\":[{\"colorbar\":{\"outlinewidth\":0,\"ticks\":\"\"},\"colorscale\":[[0.0,\"#0d0887\"],[0.1111111111111111,\"#46039f\"],[0.2222222222222222,\"#7201a8\"],[0.3333333333333333,\"#9c179e\"],[0.4444444444444444,\"#bd3786\"],[0.5555555555555556,\"#d8576b\"],[0.6666666666666666,\"#ed7953\"],[0.7777777777777778,\"#fb9f3a\"],[0.8888888888888888,\"#fdca26\"],[1.0,\"#f0f921\"]],\"type\":\"contour\"}],\"heatmapgl\":[{\"colorbar\":{\"outlinewidth\":0,\"ticks\":\"\"},\"colorscale\":[[0.0,\"#0d0887\"],[0.1111111111111111,\"#46039f\"],[0.2222222222222222,\"#7201a8\"],[0.3333333333333333,\"#9c179e\"],[0.4444444444444444,\"#bd3786\"],[0.5555555555555556,\"#d8576b\"],[0.6666666666666666,\"#ed7953\"],[0.7777777777777778,\"#fb9f3a\"],[0.8888888888888888,\"#fdca26\"],[1.0,\"#f0f921\"]],\"type\":\"heatmapgl\"}],\"heatmap\":[{\"colorbar\":{\"outlinewidth\":0,\"ticks\":\"\"},\"colorscale\":[[0.0,\"#0d0887\"],[0.1111111111111111,\"#46039f\"],[0.2222222222222222,\"#7201a8\"],[0.3333333333333333,\"#9c179e\"],[0.4444444444444444,\"#bd3786\"],[0.5555555555555556,\"#d8576b\"],[0.6666666666666666,\"#ed7953\"],[0.7777777777777778,\"#fb9f3a\"],[0.8888888888888888,\"#fdca26\"],[1.0,\"#f0f921\"]],\"type\":\"heatmap\"}],\"histogram2dcontour\":[{\"colorbar\":{\"outlinewidth\":0,\"ticks\":\"\"},\"colorscale\":[[0.0,\"#0d0887\"],[0.1111111111111111,\"#46039f\"],[0.2222222222222222,\"#7201a8\"],[0.3333333333333333,\"#9c179e\"],[0.4444444444444444,\"#bd3786\"],[0.5555555555555556,\"#d8576b\"],[0.6666666666666666,\"#ed7953\"],[0.7777777777777778,\"#fb9f3a\"],[0.8888888888888888,\"#fdca26\"],[1.0,\"#f0f921\"]],\"type\":\"histogram2dcontour\"}],\"histogram2d\":[{\"colorbar\":{\"outlinewidth\":0,\"ticks\":\"\"},\"colorscale\":[[0.0,\"#0d0887\"],[0.1111111111111111,\"#46039f\"],[0.2222222222222222,\"#7201a8\"],[0.3333333333333333,\"#9c179e\"],[0.4444444444444444,\"#bd3786\"],[0.5555555555555556,\"#d8576b\"],[0.6666666666666666,\"#ed7953\"],[0.7777777777777778,\"#fb9f3a\"],[0.8888888888888888,\"#fdca26\"],[1.0,\"#f0f921\"]],\"type\":\"histogram2d\"}],\"histogram\":[{\"marker\":{\"pattern\":{\"fillmode\":\"overlay\",\"size\":10,\"solidity\":0.2}},\"type\":\"histogram\"}],\"mesh3d\":[{\"colorbar\":{\"outlinewidth\":0,\"ticks\":\"\"},\"type\":\"mesh3d\"}],\"parcoords\":[{\"line\":{\"colorbar\":{\"outlinewidth\":0,\"ticks\":\"\"}},\"type\":\"parcoords\"}],\"pie\":[{\"automargin\":true,\"type\":\"pie\"}],\"scatter3d\":[{\"line\":{\"colorbar\":{\"outlinewidth\":0,\"ticks\":\"\"}},\"marker\":{\"colorbar\":{\"outlinewidth\":0,\"ticks\":\"\"}},\"type\":\"scatter3d\"}],\"scattercarpet\":[{\"marker\":{\"colorbar\":{\"outlinewidth\":0,\"ticks\":\"\"}},\"type\":\"scattercarpet\"}],\"scattergeo\":[{\"marker\":{\"colorbar\":{\"outlinewidth\":0,\"ticks\":\"\"}},\"type\":\"scattergeo\"}],\"scattergl\":[{\"marker\":{\"colorbar\":{\"outlinewidth\":0,\"ticks\":\"\"}},\"type\":\"scattergl\"}],\"scattermapbox\":[{\"marker\":{\"colorbar\":{\"outlinewidth\":0,\"ticks\":\"\"}},\"type\":\"scattermapbox\"}],\"scatterpolargl\":[{\"marker\":{\"colorbar\":{\"outlinewidth\":0,\"ticks\":\"\"}},\"type\":\"scatterpolargl\"}],\"scatterpolar\":[{\"marker\":{\"colorbar\":{\"outlinewidth\":0,\"ticks\":\"\"}},\"type\":\"scatterpolar\"}],\"scatter\":[{\"marker\":{\"colorbar\":{\"outlinewidth\":0,\"ticks\":\"\"}},\"type\":\"scatter\"}],\"scatterternary\":[{\"marker\":{\"colorbar\":{\"outlinewidth\":0,\"ticks\":\"\"}},\"type\":\"scatterternary\"}],\"surface\":[{\"colorbar\":{\"outlinewidth\":0,\"ticks\":\"\"},\"colorscale\":[[0.0,\"#0d0887\"],[0.1111111111111111,\"#46039f\"],[0.2222222222222222,\"#7201a8\"],[0.3333333333333333,\"#9c179e\"],[0.4444444444444444,\"#bd3786\"],[0.5555555555555556,\"#d8576b\"],[0.6666666666666666,\"#ed7953\"],[0.7777777777777778,\"#fb9f3a\"],[0.8888888888888888,\"#fdca26\"],[1.0,\"#f0f921\"]],\"type\":\"surface\"}],\"table\":[{\"cells\":{\"fill\":{\"color\":\"#EBF0F8\"},\"line\":{\"color\":\"white\"}},\"header\":{\"fill\":{\"color\":\"#C8D4E3\"},\"line\":{\"color\":\"white\"}},\"type\":\"table\"}]},\"layout\":{\"annotationdefaults\":{\"arrowcolor\":\"#2a3f5f\",\"arrowhead\":0,\"arrowwidth\":1},\"autotypenumbers\":\"strict\",\"coloraxis\":{\"colorbar\":{\"outlinewidth\":0,\"ticks\":\"\"}},\"colorscale\":{\"diverging\":[[0,\"#8e0152\"],[0.1,\"#c51b7d\"],[0.2,\"#de77ae\"],[0.3,\"#f1b6da\"],[0.4,\"#fde0ef\"],[0.5,\"#f7f7f7\"],[0.6,\"#e6f5d0\"],[0.7,\"#b8e186\"],[0.8,\"#7fbc41\"],[0.9,\"#4d9221\"],[1,\"#276419\"]],\"sequential\":[[0.0,\"#0d0887\"],[0.1111111111111111,\"#46039f\"],[0.2222222222222222,\"#7201a8\"],[0.3333333333333333,\"#9c179e\"],[0.4444444444444444,\"#bd3786\"],[0.5555555555555556,\"#d8576b\"],[0.6666666666666666,\"#ed7953\"],[0.7777777777777778,\"#fb9f3a\"],[0.8888888888888888,\"#fdca26\"],[1.0,\"#f0f921\"]],\"sequentialminus\":[[0.0,\"#0d0887\"],[0.1111111111111111,\"#46039f\"],[0.2222222222222222,\"#7201a8\"],[0.3333333333333333,\"#9c179e\"],[0.4444444444444444,\"#bd3786\"],[0.5555555555555556,\"#d8576b\"],[0.6666666666666666,\"#ed7953\"],[0.7777777777777778,\"#fb9f3a\"],[0.8888888888888888,\"#fdca26\"],[1.0,\"#f0f921\"]]},\"colorway\":[\"#636efa\",\"#EF553B\",\"#00cc96\",\"#ab63fa\",\"#FFA15A\",\"#19d3f3\",\"#FF6692\",\"#B6E880\",\"#FF97FF\",\"#FECB52\"],\"font\":{\"color\":\"#2a3f5f\"},\"geo\":{\"bgcolor\":\"white\",\"lakecolor\":\"white\",\"landcolor\":\"#E5ECF6\",\"showlakes\":true,\"showland\":true,\"subunitcolor\":\"white\"},\"hoverlabel\":{\"align\":\"left\"},\"hovermode\":\"closest\",\"mapbox\":{\"style\":\"light\"},\"paper_bgcolor\":\"white\",\"plot_bgcolor\":\"#E5ECF6\",\"polar\":{\"angularaxis\":{\"gridcolor\":\"white\",\"linecolor\":\"white\",\"ticks\":\"\"},\"bgcolor\":\"#E5ECF6\",\"radialaxis\":{\"gridcolor\":\"white\",\"linecolor\":\"white\",\"ticks\":\"\"}},\"scene\":{\"xaxis\":{\"backgroundcolor\":\"#E5ECF6\",\"gridcolor\":\"white\",\"gridwidth\":2,\"linecolor\":\"white\",\"showbackground\":true,\"ticks\":\"\",\"zerolinecolor\":\"white\"},\"yaxis\":{\"backgroundcolor\":\"#E5ECF6\",\"gridcolor\":\"white\",\"gridwidth\":2,\"linecolor\":\"white\",\"showbackground\":true,\"ticks\":\"\",\"zerolinecolor\":\"white\"},\"zaxis\":{\"backgroundcolor\":\"#E5ECF6\",\"gridcolor\":\"white\",\"gridwidth\":2,\"linecolor\":\"white\",\"showbackground\":true,\"ticks\":\"\",\"zerolinecolor\":\"white\"}},\"shapedefaults\":{\"line\":{\"color\":\"#2a3f5f\"}},\"ternary\":{\"aaxis\":{\"gridcolor\":\"white\",\"linecolor\":\"white\",\"ticks\":\"\"},\"baxis\":{\"gridcolor\":\"white\",\"linecolor\":\"white\",\"ticks\":\"\"},\"bgcolor\":\"#E5ECF6\",\"caxis\":{\"gridcolor\":\"white\",\"linecolor\":\"white\",\"ticks\":\"\"}},\"title\":{\"x\":0.05},\"xaxis\":{\"automargin\":true,\"gridcolor\":\"white\",\"linecolor\":\"white\",\"ticks\":\"\",\"title\":{\"standoff\":15},\"zerolinecolor\":\"white\",\"zerolinewidth\":2},\"yaxis\":{\"automargin\":true,\"gridcolor\":\"white\",\"linecolor\":\"white\",\"ticks\":\"\",\"title\":{\"standoff\":15},\"zerolinecolor\":\"white\",\"zerolinewidth\":2}}},\"updatemenus\":[{\"buttons\":[{\"args\":[{\"y\":[[0.03908918425440788,0.6521252989768982,0.602222740650177,0.7738614678382874],[0.032141294330358505,0.818791925907135,0.8256540894508362,0.9260163903236389],[34255,894,4319,5731],[0.10471470607756808,0.4748556383990796,0.4748556383990796,0.4748556383990796]]},{\"xaxis\":{\"showticklabels\":false,\"tickmode\":\"array\",\"ticktext\":[\"(-inf, 0.5000]\",\"(0.5000, 1.5000]\",\"(1.5000, 5.5000]\",\"(5.5000, +inf)\"],\"tickvals\":[0,1,2,3],\"title\":{\"text\":\"Bins\"}}}],\"label\":\"Employment_Length\",\"method\":\"update\"}],\"direction\":\"down\",\"pad\":{\"r\":10,\"t\":10},\"showactive\":true,\"x\":0.25,\"xanchor\":\"left\",\"y\":1.09,\"yanchor\":\"top\"}],\"xaxis\":{\"showticklabels\":false,\"tickmode\":\"array\",\"ticktext\":[\"(-inf, 0.5000]\",\"(0.5000, 1.5000]\",\"(1.5000, 5.5000]\",\"(5.5000, +inf)\"],\"tickvals\":[0,1,2,3],\"title\":{\"text\":\"Bins\"}},\"yaxis\":{\"overlaying\":\"y2\",\"side\":\"left\",\"title\":{\"text\":\"Prediction and target\"}},\"yaxis2\":{\"position\":1.0,\"side\":\"right\",\"title\":{\"text\":\"Objects per bin\"}}},                        {\"responsive\": true}                    ).then(function(){\n",
       "                            \n",
       "var gd = document.getElementById('89fee29b-a71d-4eb6-b3e4-61aaac78dad9');\n",
       "var x = new MutationObserver(function (mutations, observer) {{\n",
       "        var display = window.getComputedStyle(gd).display;\n",
       "        if (!display || display === 'none') {{\n",
       "            console.log([gd, 'removed!']);\n",
       "            Plotly.purge(gd);\n",
       "            observer.disconnect();\n",
       "        }}\n",
       "}});\n",
       "\n",
       "// Listen for the removal of the full notebook cells\n",
       "var notebookContainer = gd.closest('#notebook-container');\n",
       "if (notebookContainer) {{\n",
       "    x.observe(notebookContainer, {childList: true});\n",
       "}}\n",
       "\n",
       "// Listen for the clearing of the current output cell\n",
       "var outputEl = gd.closest('.output');\n",
       "if (outputEl) {{\n",
       "    x.observe(outputEl, {childList: true});\n",
       "}}\n",
       "\n",
       "                        })                };                });            </script>        </div>"
      ]
     },
     "metadata": {},
     "output_type": "display_data"
    },
    {
     "data": {
      "text/plain": [
       "{'borders': array([0.5, 1.5, 5.5], dtype=float32),\n",
       " 'binarized_feature': array([3, 0, 0, ..., 0, 0, 0]),\n",
       " 'mean_target': array([0.03908918, 0.6521253 , 0.60222274, 0.77386147], dtype=float32),\n",
       " 'mean_weighted_target': array([], dtype=float32),\n",
       " 'mean_prediction': array([0.03214129, 0.8187919 , 0.8256541 , 0.9260164 ], dtype=float32),\n",
       " 'objects_per_bin': array([34255,   894,  4319,  5731], dtype=uint32),\n",
       " 'predictions_on_varying_feature': array([0.10471471, 0.47485564, 0.47485564, 0.47485564])}"
      ]
     },
     "execution_count": 16,
     "metadata": {},
     "output_type": "execute_result"
    }
   ],
   "source": [
    "model.calc_feature_statistics(test_dataset,feature='Employment_Length',plot=True,prediction_type='Class')"
   ]
  },
  {
   "cell_type": "code",
   "execution_count": 17,
   "id": "2e5bb4dd",
   "metadata": {},
   "outputs": [],
   "source": [
    "def plot_lift_curve(y_val, y_pred, step=0.01):\n",
    "    aux_lift = pd.DataFrame()\n",
    "    aux_lift['real'] = y_val\n",
    "    aux_lift['predicted'] = y_pred\n",
    "    aux_lift.sort_values('predicted',ascending=False,inplace=True)\n",
    "    \n",
    "    x_val = np.arange(step,1+step,step)\n",
    "    ratio_ones = aux_lift['real'].sum() / len(aux_lift)\n",
    "    y_v = []\n",
    "    \n",
    "    for x in x_val:\n",
    "        num_data = int(np.ceil(x*len(aux_lift))) #The ceil function returns the closest integer bigger than our number \n",
    "        data_here = aux_lift.iloc[:num_data,:]   # ie. np.ceil(1.4) = 2\n",
    "        ratio_ones_here = data_here['real'].sum()/len(data_here)\n",
    "        y_v.append(ratio_ones_here / ratio_ones)\n",
    "           \n",
    "    fig, axis = plt.subplots()\n",
    "    fig.figsize = (40,40)\n",
    "    axis.plot(x_val, y_v, 'g-', linewidth = 3, markersize = 5)\n",
    "    axis.plot(x_val, np.ones(len(x_val)), 'k-')\n",
    "    axis.set_xlabel('Proportion of sample')\n",
    "    axis.set_ylabel('Lift')\n",
    "    plt.title('Lift Curve')\n",
    "    plt.show()"
   ]
  },
  {
   "cell_type": "code",
   "execution_count": 18,
   "id": "46d91d91",
   "metadata": {},
   "outputs": [
    {
     "data": {
      "image/png": "[encoded data removed]",
      "text/plain": [
       "<Figure size 432x288 with 1 Axes>"
      ]
     },
     "metadata": {
      "needs_background": "light"
     },
     "output_type": "display_data"
    }
   ],
   "source": [
    "plot_lift_curve(y_test,pred,step=0.01)"
   ]
  },
  {
   "cell_type": "code",
   "execution_count": 19,
   "id": "90ef990e",
   "metadata": {},
   "outputs": [
    {
     "data": {
      "image/png": "[encoded data removed]",
      "text/plain": [
       "<Figure size 432x288 with 1 Axes>"
      ]
     },
     "metadata": {
      "needs_background": "light"
     },
     "output_type": "display_data"
    }
   ],
   "source": [
    "from sklearn import metrics\n",
    "\n",
    "y_pred_proba = model.predict_proba(X_test)[::,1]\n",
    "fpr, tpr, _ = metrics.roc_curve(y_test,  y_pred_proba)\n",
    "\n",
    "plt.plot(fpr,tpr)\n",
    "plt.ylabel('True Positive Rate')\n",
    "plt.xlabel('False Positive Rate')\n",
    "plt.show()"
   ]
  },
  {
   "cell_type": "code",
   "execution_count": 20,
   "id": "115ce110",
   "metadata": {},
   "outputs": [
    {
     "data": {
      "text/html": [
       "<div>\n",
       "<style scoped>\n",
       "    .dataframe tbody tr th:only-of-type {\n",
       "        vertical-align: middle;\n",
       "    }\n",
       "\n",
       "    .dataframe tbody tr th {\n",
       "        vertical-align: top;\n",
       "    }\n",
       "\n",
       "    .dataframe thead th {\n",
       "        text-align: right;\n",
       "    }\n",
       "</style>\n",
       "<table border=\"1\" class=\"dataframe\">\n",
       "  <thead>\n",
       "    <tr style=\"text-align: right;\">\n",
       "      <th></th>\n",
       "      <th>count</th>\n",
       "      <th>mean</th>\n",
       "      <th>std</th>\n",
       "      <th>min</th>\n",
       "      <th>25%</th>\n",
       "      <th>50%</th>\n",
       "      <th>75%</th>\n",
       "      <th>max</th>\n",
       "    </tr>\n",
       "    <tr>\n",
       "      <th>Application Date</th>\n",
       "      <th></th>\n",
       "      <th></th>\n",
       "      <th></th>\n",
       "      <th></th>\n",
       "      <th></th>\n",
       "      <th></th>\n",
       "      <th></th>\n",
       "      <th></th>\n",
       "    </tr>\n",
       "  </thead>\n",
       "  <tbody>\n",
       "    <tr>\n",
       "      <th>2007Q2</th>\n",
       "      <td>7.0</td>\n",
       "      <td>0.142857</td>\n",
       "      <td>0.377964</td>\n",
       "      <td>0.0</td>\n",
       "      <td>0.0</td>\n",
       "      <td>0.0</td>\n",
       "      <td>0.0</td>\n",
       "      <td>1.0</td>\n",
       "    </tr>\n",
       "    <tr>\n",
       "      <th>2007Q3</th>\n",
       "      <td>21.0</td>\n",
       "      <td>0.190476</td>\n",
       "      <td>0.402374</td>\n",
       "      <td>0.0</td>\n",
       "      <td>0.0</td>\n",
       "      <td>0.0</td>\n",
       "      <td>0.0</td>\n",
       "      <td>1.0</td>\n",
       "    </tr>\n",
       "    <tr>\n",
       "      <th>2007Q4</th>\n",
       "      <td>105.0</td>\n",
       "      <td>0.104762</td>\n",
       "      <td>0.307715</td>\n",
       "      <td>0.0</td>\n",
       "      <td>0.0</td>\n",
       "      <td>0.0</td>\n",
       "      <td>0.0</td>\n",
       "      <td>1.0</td>\n",
       "    </tr>\n",
       "    <tr>\n",
       "      <th>2008Q1</th>\n",
       "      <td>162.0</td>\n",
       "      <td>0.191358</td>\n",
       "      <td>0.394590</td>\n",
       "      <td>0.0</td>\n",
       "      <td>0.0</td>\n",
       "      <td>0.0</td>\n",
       "      <td>0.0</td>\n",
       "      <td>1.0</td>\n",
       "    </tr>\n",
       "    <tr>\n",
       "      <th>2008Q2</th>\n",
       "      <td>115.0</td>\n",
       "      <td>0.069565</td>\n",
       "      <td>0.255526</td>\n",
       "      <td>0.0</td>\n",
       "      <td>0.0</td>\n",
       "      <td>0.0</td>\n",
       "      <td>0.0</td>\n",
       "      <td>1.0</td>\n",
       "    </tr>\n",
       "    <tr>\n",
       "      <th>2008Q3</th>\n",
       "      <td>56.0</td>\n",
       "      <td>0.142857</td>\n",
       "      <td>0.353094</td>\n",
       "      <td>0.0</td>\n",
       "      <td>0.0</td>\n",
       "      <td>0.0</td>\n",
       "      <td>0.0</td>\n",
       "      <td>1.0</td>\n",
       "    </tr>\n",
       "    <tr>\n",
       "      <th>2008Q4</th>\n",
       "      <td>176.0</td>\n",
       "      <td>0.073864</td>\n",
       "      <td>0.262295</td>\n",
       "      <td>0.0</td>\n",
       "      <td>0.0</td>\n",
       "      <td>0.0</td>\n",
       "      <td>0.0</td>\n",
       "      <td>1.0</td>\n",
       "    </tr>\n",
       "    <tr>\n",
       "      <th>2009Q1</th>\n",
       "      <td>187.0</td>\n",
       "      <td>0.096257</td>\n",
       "      <td>0.295735</td>\n",
       "      <td>0.0</td>\n",
       "      <td>0.0</td>\n",
       "      <td>0.0</td>\n",
       "      <td>0.0</td>\n",
       "      <td>1.0</td>\n",
       "    </tr>\n",
       "    <tr>\n",
       "      <th>2009Q2</th>\n",
       "      <td>333.0</td>\n",
       "      <td>0.096096</td>\n",
       "      <td>0.295167</td>\n",
       "      <td>0.0</td>\n",
       "      <td>0.0</td>\n",
       "      <td>0.0</td>\n",
       "      <td>0.0</td>\n",
       "      <td>1.0</td>\n",
       "    </tr>\n",
       "    <tr>\n",
       "      <th>2009Q3</th>\n",
       "      <td>255.0</td>\n",
       "      <td>0.094118</td>\n",
       "      <td>0.292567</td>\n",
       "      <td>0.0</td>\n",
       "      <td>0.0</td>\n",
       "      <td>0.0</td>\n",
       "      <td>0.0</td>\n",
       "      <td>1.0</td>\n",
       "    </tr>\n",
       "    <tr>\n",
       "      <th>2009Q4</th>\n",
       "      <td>264.0</td>\n",
       "      <td>0.147727</td>\n",
       "      <td>0.355503</td>\n",
       "      <td>0.0</td>\n",
       "      <td>0.0</td>\n",
       "      <td>0.0</td>\n",
       "      <td>0.0</td>\n",
       "      <td>1.0</td>\n",
       "    </tr>\n",
       "    <tr>\n",
       "      <th>2010Q1</th>\n",
       "      <td>343.0</td>\n",
       "      <td>0.116618</td>\n",
       "      <td>0.321434</td>\n",
       "      <td>0.0</td>\n",
       "      <td>0.0</td>\n",
       "      <td>0.0</td>\n",
       "      <td>0.0</td>\n",
       "      <td>1.0</td>\n",
       "    </tr>\n",
       "    <tr>\n",
       "      <th>2010Q2</th>\n",
       "      <td>489.0</td>\n",
       "      <td>0.108384</td>\n",
       "      <td>0.311184</td>\n",
       "      <td>0.0</td>\n",
       "      <td>0.0</td>\n",
       "      <td>0.0</td>\n",
       "      <td>0.0</td>\n",
       "      <td>1.0</td>\n",
       "    </tr>\n",
       "    <tr>\n",
       "      <th>2010Q3</th>\n",
       "      <td>598.0</td>\n",
       "      <td>0.108696</td>\n",
       "      <td>0.311518</td>\n",
       "      <td>0.0</td>\n",
       "      <td>0.0</td>\n",
       "      <td>0.0</td>\n",
       "      <td>0.0</td>\n",
       "      <td>1.0</td>\n",
       "    </tr>\n",
       "    <tr>\n",
       "      <th>2010Q4</th>\n",
       "      <td>731.0</td>\n",
       "      <td>0.124487</td>\n",
       "      <td>0.330362</td>\n",
       "      <td>0.0</td>\n",
       "      <td>0.0</td>\n",
       "      <td>0.0</td>\n",
       "      <td>0.0</td>\n",
       "      <td>1.0</td>\n",
       "    </tr>\n",
       "    <tr>\n",
       "      <th>2011Q1</th>\n",
       "      <td>954.0</td>\n",
       "      <td>0.091195</td>\n",
       "      <td>0.288037</td>\n",
       "      <td>0.0</td>\n",
       "      <td>0.0</td>\n",
       "      <td>0.0</td>\n",
       "      <td>0.0</td>\n",
       "      <td>1.0</td>\n",
       "    </tr>\n",
       "    <tr>\n",
       "      <th>2011Q2</th>\n",
       "      <td>892.0</td>\n",
       "      <td>0.130045</td>\n",
       "      <td>0.336541</td>\n",
       "      <td>0.0</td>\n",
       "      <td>0.0</td>\n",
       "      <td>0.0</td>\n",
       "      <td>0.0</td>\n",
       "      <td>1.0</td>\n",
       "    </tr>\n",
       "    <tr>\n",
       "      <th>2011Q3</th>\n",
       "      <td>1243.0</td>\n",
       "      <td>0.078037</td>\n",
       "      <td>0.268338</td>\n",
       "      <td>0.0</td>\n",
       "      <td>0.0</td>\n",
       "      <td>0.0</td>\n",
       "      <td>0.0</td>\n",
       "      <td>1.0</td>\n",
       "    </tr>\n",
       "    <tr>\n",
       "      <th>2011Q4</th>\n",
       "      <td>1296.0</td>\n",
       "      <td>0.101852</td>\n",
       "      <td>0.302570</td>\n",
       "      <td>0.0</td>\n",
       "      <td>0.0</td>\n",
       "      <td>0.0</td>\n",
       "      <td>0.0</td>\n",
       "      <td>1.0</td>\n",
       "    </tr>\n",
       "    <tr>\n",
       "      <th>2012Q1</th>\n",
       "      <td>1208.0</td>\n",
       "      <td>0.120861</td>\n",
       "      <td>0.326101</td>\n",
       "      <td>0.0</td>\n",
       "      <td>0.0</td>\n",
       "      <td>0.0</td>\n",
       "      <td>0.0</td>\n",
       "      <td>1.0</td>\n",
       "    </tr>\n",
       "    <tr>\n",
       "      <th>2012Q2</th>\n",
       "      <td>1663.0</td>\n",
       "      <td>0.120866</td>\n",
       "      <td>0.326069</td>\n",
       "      <td>0.0</td>\n",
       "      <td>0.0</td>\n",
       "      <td>0.0</td>\n",
       "      <td>0.0</td>\n",
       "      <td>1.0</td>\n",
       "    </tr>\n",
       "    <tr>\n",
       "      <th>2012Q3</th>\n",
       "      <td>2058.0</td>\n",
       "      <td>0.159378</td>\n",
       "      <td>0.366117</td>\n",
       "      <td>0.0</td>\n",
       "      <td>0.0</td>\n",
       "      <td>0.0</td>\n",
       "      <td>0.0</td>\n",
       "      <td>1.0</td>\n",
       "    </tr>\n",
       "    <tr>\n",
       "      <th>2012Q4</th>\n",
       "      <td>2531.0</td>\n",
       "      <td>0.151719</td>\n",
       "      <td>0.358819</td>\n",
       "      <td>0.0</td>\n",
       "      <td>0.0</td>\n",
       "      <td>0.0</td>\n",
       "      <td>0.0</td>\n",
       "      <td>1.0</td>\n",
       "    </tr>\n",
       "    <tr>\n",
       "      <th>2013Q1</th>\n",
       "      <td>2798.0</td>\n",
       "      <td>0.163688</td>\n",
       "      <td>0.370059</td>\n",
       "      <td>0.0</td>\n",
       "      <td>0.0</td>\n",
       "      <td>0.0</td>\n",
       "      <td>0.0</td>\n",
       "      <td>1.0</td>\n",
       "    </tr>\n",
       "    <tr>\n",
       "      <th>2013Q2</th>\n",
       "      <td>3872.0</td>\n",
       "      <td>0.160899</td>\n",
       "      <td>0.367485</td>\n",
       "      <td>0.0</td>\n",
       "      <td>0.0</td>\n",
       "      <td>0.0</td>\n",
       "      <td>0.0</td>\n",
       "      <td>1.0</td>\n",
       "    </tr>\n",
       "    <tr>\n",
       "      <th>2013Q3</th>\n",
       "      <td>5039.0</td>\n",
       "      <td>0.139710</td>\n",
       "      <td>0.346721</td>\n",
       "      <td>0.0</td>\n",
       "      <td>0.0</td>\n",
       "      <td>0.0</td>\n",
       "      <td>0.0</td>\n",
       "      <td>1.0</td>\n",
       "    </tr>\n",
       "    <tr>\n",
       "      <th>2013Q4</th>\n",
       "      <td>4939.0</td>\n",
       "      <td>0.179389</td>\n",
       "      <td>0.383716</td>\n",
       "      <td>0.0</td>\n",
       "      <td>0.0</td>\n",
       "      <td>0.0</td>\n",
       "      <td>0.0</td>\n",
       "      <td>1.0</td>\n",
       "    </tr>\n",
       "    <tr>\n",
       "      <th>2014Q1</th>\n",
       "      <td>7154.0</td>\n",
       "      <td>0.131535</td>\n",
       "      <td>0.338008</td>\n",
       "      <td>0.0</td>\n",
       "      <td>0.0</td>\n",
       "      <td>0.0</td>\n",
       "      <td>0.0</td>\n",
       "      <td>1.0</td>\n",
       "    </tr>\n",
       "    <tr>\n",
       "      <th>2014Q2</th>\n",
       "      <td>9295.0</td>\n",
       "      <td>0.121463</td>\n",
       "      <td>0.326682</td>\n",
       "      <td>0.0</td>\n",
       "      <td>0.0</td>\n",
       "      <td>0.0</td>\n",
       "      <td>0.0</td>\n",
       "      <td>1.0</td>\n",
       "    </tr>\n",
       "    <tr>\n",
       "      <th>2014Q3</th>\n",
       "      <td>10713.0</td>\n",
       "      <td>0.110053</td>\n",
       "      <td>0.312971</td>\n",
       "      <td>0.0</td>\n",
       "      <td>0.0</td>\n",
       "      <td>0.0</td>\n",
       "      <td>0.0</td>\n",
       "      <td>1.0</td>\n",
       "    </tr>\n",
       "    <tr>\n",
       "      <th>2014Q4</th>\n",
       "      <td>11084.0</td>\n",
       "      <td>0.137766</td>\n",
       "      <td>0.344670</td>\n",
       "      <td>0.0</td>\n",
       "      <td>0.0</td>\n",
       "      <td>0.0</td>\n",
       "      <td>0.0</td>\n",
       "      <td>1.0</td>\n",
       "    </tr>\n",
       "    <tr>\n",
       "      <th>2015Q1</th>\n",
       "      <td>9041.0</td>\n",
       "      <td>0.180843</td>\n",
       "      <td>0.384909</td>\n",
       "      <td>0.0</td>\n",
       "      <td>0.0</td>\n",
       "      <td>0.0</td>\n",
       "      <td>0.0</td>\n",
       "      <td>1.0</td>\n",
       "    </tr>\n",
       "    <tr>\n",
       "      <th>2015Q2</th>\n",
       "      <td>2410.0</td>\n",
       "      <td>0.794606</td>\n",
       "      <td>0.404073</td>\n",
       "      <td>0.0</td>\n",
       "      <td>1.0</td>\n",
       "      <td>1.0</td>\n",
       "      <td>1.0</td>\n",
       "      <td>1.0</td>\n",
       "    </tr>\n",
       "    <tr>\n",
       "      <th>2015Q3</th>\n",
       "      <td>2870.0</td>\n",
       "      <td>0.792683</td>\n",
       "      <td>0.405455</td>\n",
       "      <td>0.0</td>\n",
       "      <td>1.0</td>\n",
       "      <td>1.0</td>\n",
       "      <td>1.0</td>\n",
       "      <td>1.0</td>\n",
       "    </tr>\n",
       "    <tr>\n",
       "      <th>2015Q4</th>\n",
       "      <td>4230.0</td>\n",
       "      <td>0.620804</td>\n",
       "      <td>0.485244</td>\n",
       "      <td>0.0</td>\n",
       "      <td>0.0</td>\n",
       "      <td>1.0</td>\n",
       "      <td>1.0</td>\n",
       "      <td>1.0</td>\n",
       "    </tr>\n",
       "    <tr>\n",
       "      <th>2016Q1</th>\n",
       "      <td>6334.0</td>\n",
       "      <td>0.390748</td>\n",
       "      <td>0.487957</td>\n",
       "      <td>0.0</td>\n",
       "      <td>0.0</td>\n",
       "      <td>0.0</td>\n",
       "      <td>1.0</td>\n",
       "      <td>1.0</td>\n",
       "    </tr>\n",
       "    <tr>\n",
       "      <th>2016Q2</th>\n",
       "      <td>3768.0</td>\n",
       "      <td>0.485138</td>\n",
       "      <td>0.499845</td>\n",
       "      <td>0.0</td>\n",
       "      <td>0.0</td>\n",
       "      <td>0.0</td>\n",
       "      <td>1.0</td>\n",
       "      <td>1.0</td>\n",
       "    </tr>\n",
       "    <tr>\n",
       "      <th>2016Q3</th>\n",
       "      <td>4946.0</td>\n",
       "      <td>0.378892</td>\n",
       "      <td>0.485160</td>\n",
       "      <td>0.0</td>\n",
       "      <td>0.0</td>\n",
       "      <td>0.0</td>\n",
       "      <td>1.0</td>\n",
       "      <td>1.0</td>\n",
       "    </tr>\n",
       "    <tr>\n",
       "      <th>2016Q4</th>\n",
       "      <td>13474.0</td>\n",
       "      <td>0.150364</td>\n",
       "      <td>0.357441</td>\n",
       "      <td>0.0</td>\n",
       "      <td>0.0</td>\n",
       "      <td>0.0</td>\n",
       "      <td>0.0</td>\n",
       "      <td>1.0</td>\n",
       "    </tr>\n",
       "    <tr>\n",
       "      <th>2017Q1</th>\n",
       "      <td>13166.0</td>\n",
       "      <td>0.145450</td>\n",
       "      <td>0.352568</td>\n",
       "      <td>0.0</td>\n",
       "      <td>0.0</td>\n",
       "      <td>0.0</td>\n",
       "      <td>0.0</td>\n",
       "      <td>1.0</td>\n",
       "    </tr>\n",
       "    <tr>\n",
       "      <th>2017Q2</th>\n",
       "      <td>15103.0</td>\n",
       "      <td>0.143349</td>\n",
       "      <td>0.350440</td>\n",
       "      <td>0.0</td>\n",
       "      <td>0.0</td>\n",
       "      <td>0.0</td>\n",
       "      <td>0.0</td>\n",
       "      <td>1.0</td>\n",
       "    </tr>\n",
       "    <tr>\n",
       "      <th>2017Q3</th>\n",
       "      <td>20911.0</td>\n",
       "      <td>0.115537</td>\n",
       "      <td>0.319677</td>\n",
       "      <td>0.0</td>\n",
       "      <td>0.0</td>\n",
       "      <td>0.0</td>\n",
       "      <td>0.0</td>\n",
       "      <td>1.0</td>\n",
       "    </tr>\n",
       "    <tr>\n",
       "      <th>2017Q4</th>\n",
       "      <td>36458.0</td>\n",
       "      <td>0.064211</td>\n",
       "      <td>0.245132</td>\n",
       "      <td>0.0</td>\n",
       "      <td>0.0</td>\n",
       "      <td>0.0</td>\n",
       "      <td>0.0</td>\n",
       "      <td>1.0</td>\n",
       "    </tr>\n",
       "    <tr>\n",
       "      <th>2018Q1</th>\n",
       "      <td>10129.0</td>\n",
       "      <td>0.217889</td>\n",
       "      <td>0.412832</td>\n",
       "      <td>0.0</td>\n",
       "      <td>0.0</td>\n",
       "      <td>0.0</td>\n",
       "      <td>0.0</td>\n",
       "      <td>1.0</td>\n",
       "    </tr>\n",
       "    <tr>\n",
       "      <th>2018Q2</th>\n",
       "      <td>4206.0</td>\n",
       "      <td>0.619116</td>\n",
       "      <td>0.485662</td>\n",
       "      <td>0.0</td>\n",
       "      <td>0.0</td>\n",
       "      <td>1.0</td>\n",
       "      <td>1.0</td>\n",
       "      <td>1.0</td>\n",
       "    </tr>\n",
       "    <tr>\n",
       "      <th>2018Q3</th>\n",
       "      <td>4035.0</td>\n",
       "      <td>0.634696</td>\n",
       "      <td>0.481575</td>\n",
       "      <td>0.0</td>\n",
       "      <td>0.0</td>\n",
       "      <td>1.0</td>\n",
       "      <td>1.0</td>\n",
       "      <td>1.0</td>\n",
       "    </tr>\n",
       "    <tr>\n",
       "      <th>2018Q4</th>\n",
       "      <td>4333.0</td>\n",
       "      <td>0.588968</td>\n",
       "      <td>0.492078</td>\n",
       "      <td>0.0</td>\n",
       "      <td>0.0</td>\n",
       "      <td>1.0</td>\n",
       "      <td>1.0</td>\n",
       "      <td>1.0</td>\n",
       "    </tr>\n",
       "  </tbody>\n",
       "</table>\n",
       "</div>"
      ],
      "text/plain": [
       "                    count      mean       std  min  25%  50%  75%  max\n",
       "Application Date                                                      \n",
       "2007Q2                7.0  0.142857  0.377964  0.0  0.0  0.0  0.0  1.0\n",
       "2007Q3               21.0  0.190476  0.402374  0.0  0.0  0.0  0.0  1.0\n",
       "2007Q4              105.0  0.104762  0.307715  0.0  0.0  0.0  0.0  1.0\n",
       "2008Q1              162.0  0.191358  0.394590  0.0  0.0  0.0  0.0  1.0\n",
       "2008Q2              115.0  0.069565  0.255526  0.0  0.0  0.0  0.0  1.0\n",
       "2008Q3               56.0  0.142857  0.353094  0.0  0.0  0.0  0.0  1.0\n",
       "2008Q4              176.0  0.073864  0.262295  0.0  0.0  0.0  0.0  1.0\n",
       "2009Q1              187.0  0.096257  0.295735  0.0  0.0  0.0  0.0  1.0\n",
       "2009Q2              333.0  0.096096  0.295167  0.0  0.0  0.0  0.0  1.0\n",
       "2009Q3              255.0  0.094118  0.292567  0.0  0.0  0.0  0.0  1.0\n",
       "2009Q4              264.0  0.147727  0.355503  0.0  0.0  0.0  0.0  1.0\n",
       "2010Q1              343.0  0.116618  0.321434  0.0  0.0  0.0  0.0  1.0\n",
       "2010Q2              489.0  0.108384  0.311184  0.0  0.0  0.0  0.0  1.0\n",
       "2010Q3              598.0  0.108696  0.311518  0.0  0.0  0.0  0.0  1.0\n",
       "2010Q4              731.0  0.124487  0.330362  0.0  0.0  0.0  0.0  1.0\n",
       "2011Q1              954.0  0.091195  0.288037  0.0  0.0  0.0  0.0  1.0\n",
       "2011Q2              892.0  0.130045  0.336541  0.0  0.0  0.0  0.0  1.0\n",
       "2011Q3             1243.0  0.078037  0.268338  0.0  0.0  0.0  0.0  1.0\n",
       "2011Q4             1296.0  0.101852  0.302570  0.0  0.0  0.0  0.0  1.0\n",
       "2012Q1             1208.0  0.120861  0.326101  0.0  0.0  0.0  0.0  1.0\n",
       "2012Q2             1663.0  0.120866  0.326069  0.0  0.0  0.0  0.0  1.0\n",
       "2012Q3             2058.0  0.159378  0.366117  0.0  0.0  0.0  0.0  1.0\n",
       "2012Q4             2531.0  0.151719  0.358819  0.0  0.0  0.0  0.0  1.0\n",
       "2013Q1             2798.0  0.163688  0.370059  0.0  0.0  0.0  0.0  1.0\n",
       "2013Q2             3872.0  0.160899  0.367485  0.0  0.0  0.0  0.0  1.0\n",
       "2013Q3             5039.0  0.139710  0.346721  0.0  0.0  0.0  0.0  1.0\n",
       "2013Q4             4939.0  0.179389  0.383716  0.0  0.0  0.0  0.0  1.0\n",
       "2014Q1             7154.0  0.131535  0.338008  0.0  0.0  0.0  0.0  1.0\n",
       "2014Q2             9295.0  0.121463  0.326682  0.0  0.0  0.0  0.0  1.0\n",
       "2014Q3            10713.0  0.110053  0.312971  0.0  0.0  0.0  0.0  1.0\n",
       "2014Q4            11084.0  0.137766  0.344670  0.0  0.0  0.0  0.0  1.0\n",
       "2015Q1             9041.0  0.180843  0.384909  0.0  0.0  0.0  0.0  1.0\n",
       "2015Q2             2410.0  0.794606  0.404073  0.0  1.0  1.0  1.0  1.0\n",
       "2015Q3             2870.0  0.792683  0.405455  0.0  1.0  1.0  1.0  1.0\n",
       "2015Q4             4230.0  0.620804  0.485244  0.0  0.0  1.0  1.0  1.0\n",
       "2016Q1             6334.0  0.390748  0.487957  0.0  0.0  0.0  1.0  1.0\n",
       "2016Q2             3768.0  0.485138  0.499845  0.0  0.0  0.0  1.0  1.0\n",
       "2016Q3             4946.0  0.378892  0.485160  0.0  0.0  0.0  1.0  1.0\n",
       "2016Q4            13474.0  0.150364  0.357441  0.0  0.0  0.0  0.0  1.0\n",
       "2017Q1            13166.0  0.145450  0.352568  0.0  0.0  0.0  0.0  1.0\n",
       "2017Q2            15103.0  0.143349  0.350440  0.0  0.0  0.0  0.0  1.0\n",
       "2017Q3            20911.0  0.115537  0.319677  0.0  0.0  0.0  0.0  1.0\n",
       "2017Q4            36458.0  0.064211  0.245132  0.0  0.0  0.0  0.0  1.0\n",
       "2018Q1            10129.0  0.217889  0.412832  0.0  0.0  0.0  0.0  1.0\n",
       "2018Q2             4206.0  0.619116  0.485662  0.0  0.0  1.0  1.0  1.0\n",
       "2018Q3             4035.0  0.634696  0.481575  0.0  0.0  1.0  1.0  1.0\n",
       "2018Q4             4333.0  0.588968  0.492078  0.0  0.0  1.0  1.0  1.0"
      ]
     },
     "execution_count": 20,
     "metadata": {},
     "output_type": "execute_result"
    }
   ],
   "source": [
    "data_final.groupby('Application Date')['Accepted'].describe()"
   ]
  },
  {
   "cell_type": "code",
   "execution_count": 21,
   "id": "bd43c8bd",
   "metadata": {},
   "outputs": [
    {
     "name": "stderr",
     "output_type": "stream",
     "text": [
      "C:\\ProgramData\\Anaconda3\\lib\\site-packages\\lightgbm\\sklearn.py:736: UserWarning:\n",
      "\n",
      "'verbose' argument is deprecated and will be removed in a future release of LightGBM. Pass 'log_evaluation()' callback via 'callbacks' argument instead.\n",
      "\n",
      "C:\\ProgramData\\Anaconda3\\lib\\site-packages\\lightgbm\\basic.py:1780: UserWarning:\n",
      "\n",
      "Overriding the parameters from Reference Dataset.\n",
      "\n",
      "C:\\ProgramData\\Anaconda3\\lib\\site-packages\\lightgbm\\basic.py:1513: UserWarning:\n",
      "\n",
      "categorical_column in param dict is overridden.\n",
      "\n"
     ]
    },
    {
     "name": "stdout",
     "output_type": "stream",
     "text": [
      "[20]\ttraining's binary_logloss: 0.173509\tvalid_0's binary_logloss: 0.185151\n",
      "[40]\ttraining's binary_logloss: 0.0977302\tvalid_0's binary_logloss: 0.114742\n",
      "[60]\ttraining's binary_logloss: 0.069485\tvalid_0's binary_logloss: 0.0939959\n",
      "[80]\ttraining's binary_logloss: 0.0576725\tvalid_0's binary_logloss: 0.0894364\n",
      "[100]\ttraining's binary_logloss: 0.0482423\tvalid_0's binary_logloss: 0.0855017\n"
     ]
    },
    {
     "data": {
      "text/plain": [
       "LGBMClassifier(learning_rate=0.09, max_depth=-5, random_state=42)"
      ]
     },
     "execution_count": 21,
     "metadata": {},
     "output_type": "execute_result"
    }
   ],
   "source": [
    "import lightgbm as lgb\n",
    "from sklearn.metrics import mean_squared_error\n",
    "\n",
    "model = lgb.LGBMClassifier(learning_rate=0.09,max_depth=-5,random_state=42)\n",
    "model.fit(X_train,y_train,eval_set=[(X_test,y_test),(X_train,y_train)],\n",
    "          verbose=20,eval_metric='logloss')"
   ]
  },
  {
   "cell_type": "code",
   "execution_count": 22,
   "id": "250aacf5",
   "metadata": {},
   "outputs": [
    {
     "name": "stdout",
     "output_type": "stream",
     "text": [
      "Training accuracy 0.9845\n",
      "Testing accuracy 0.9675\n"
     ]
    }
   ],
   "source": [
    "print('Training accuracy {:.4f}'.format(model.score(X_train,y_train)))\n",
    "print('Testing accuracy {:.4f}'.format(model.score(X_test,y_test)))"
   ]
  },
  {
   "cell_type": "code",
   "execution_count": 23,
   "id": "c7b5e235",
   "metadata": {},
   "outputs": [
    {
     "data": {
      "text/plain": [
       "<AxesSubplot:title={'center':'Feature importance'}, xlabel='Feature importance', ylabel='Features'>"
      ]
     },
     "execution_count": 23,
     "metadata": {},
     "output_type": "execute_result"
    },
    {
     "data": {
      "image/png": "[encoded data removed]",
      "text/plain": [
       "<Figure size 432x288 with 1 Axes>"
      ]
     },
     "metadata": {
      "needs_background": "light"
     },
     "output_type": "display_data"
    }
   ],
   "source": [
    "lgb.plot_importance(model)"
   ]
  },
  {
   "cell_type": "code",
   "execution_count": 24,
   "id": "e888a331",
   "metadata": {},
   "outputs": [
    {
     "data": {
      "text/plain": [
       "<sklearn.metrics._plot.confusion_matrix.ConfusionMatrixDisplay at 0x12b6d9ff820>"
      ]
     },
     "execution_count": 24,
     "metadata": {},
     "output_type": "execute_result"
    },
    {
     "data": {
      "image/png": "[encoded data removed]",
      "text/plain": [
       "<Figure size 432x288 with 2 Axes>"
      ]
     },
     "metadata": {
      "needs_background": "light"
     },
     "output_type": "display_data"
    }
   ],
   "source": [
    "#metrics.plot_confusion_matrix(model,X_test,y_test,cmap='Blues_r')"
   ]
  },
  {
   "cell_type": "code",
   "execution_count": null,
   "id": "d6075fdf",
   "metadata": {},
   "outputs": [],
   "source": []
  }
 ],
 "metadata": {
  "kernelspec": {
   "display_name": "Python 3 (ipykernel)",
   "language": "python",
   "name": "python3"
  },
  "language_info": {
   "codemirror_mode": {
    "name": "ipython",
    "version": 3
   },
   "file_extension": ".py",
   "mimetype": "text/x-python",
   "name": "python",
   "nbconvert_exporter": "python",
   "pygments_lexer": "ipython3",
   "version": "3.9.7"
  }
 },
 "nbformat": 4,
 "nbformat_minor": 5
}
